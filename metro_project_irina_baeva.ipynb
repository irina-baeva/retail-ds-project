{
 "cells": [
  {
   "cell_type": "code",
   "execution_count": 61,
   "metadata": {},
   "outputs": [],
   "source": [
    "#data analysis\n",
    "import numpy as np \n",
    "import pandas as pd\n",
    "from urllib import request\n",
    "\n",
    "# plotting\n",
    "%matplotlib inline\n",
    "import matplotlib.pyplot as plt\n",
    "\n",
    "#data visualisation\n",
    "import seaborn as sns \n",
    "\n",
    "#working with date\n",
    "from dateutil.parser import parse\n",
    "from datetime import date\n",
    "import calendar\n",
    "import matplotlib.dates as mdates\n",
    "import matplotlib.patches as mpatches\n",
    "\n",
    "#working with distribution\n",
    "# from scipy import stats\n",
    "import scipy.stats as st\n",
    "from scipy.stats import norm"
   ]
  },
  {
   "cell_type": "markdown",
   "metadata": {},
   "source": [
    "# No-food-waste project"
   ]
  },
  {
   "cell_type": "markdown",
   "metadata": {},
   "source": [
    "### Abstract\n",
    "This report contains work with the real dataset provided by the \"CODE\" university partner \"Metronom\". \"Metronom\" is a part of the huge german retailer company \"Metro\". \n",
    "During t..."
   ]
  },
  {
   "cell_type": "markdown",
   "metadata": {},
   "source": [
    "### Introduction\n",
    "Initial goal for the report was to find out a way for such a huge retailer company as \"Metro\" to reduce the food waste. However, during the analyse process, our goal was adapting to the realities of bisiness and possibility to get insider information. Our goal was changed towards explanatory data analysis through visualizations using Python libraries and statistical methods. We hypothesised that we could find relationships between categorical and numerical variables. Is there relationship between stock, shrinkage and sales? Is there the most problematic regarding shrinkage products and could it be adviced to give up on that products? Is there also the most sold product? Which category fresh or ultrafresh takes the main part in total sales, stock, shrinkage? \n",
    "\n",
    "In order to achive a goal we worked with different categories of data, exploring our trends of shrinkage, sales and stock by day, category of product.\n",
    "As a result, we correlation between... Since the data we got was row - cleaning took a big part of the report. "
   ]
  },
  {
   "cell_type": "markdown",
   "metadata": {},
   "source": [
    "### Data, materials and Methods\n",
    "The data is provided by one of the biggest german retail company __[\"METRO\"](https://www.metro.de/)__ . The dataset contains information about products for an department store. Data could not be shared openly due to Non-disclosure agreement\n",
    "\n",
    "*Time interaval of the data set* -  period berween 1st to 31th of January 2020. \n",
    "\n",
    "*German* is a main languige of the data set. Names of the columns were translated for more convinient work.\n",
    "\n",
    "Keywords:\n",
    "\n",
    "*Depo* is a B2B shop for small business (HORECA): shops, cafes, restaurants.\n",
    "\n",
    "*Shrinkage* is a waste of products due to different reasons such as theft, damage, spoilage.\n",
    "\n",
    "*Freshness* is an attribute of the perceived quality of food.\n",
    "\n",
    "*Reqired* libraries:\n",
    "- __[Numpy](https://www.numpy.org/)__ ,\n",
    "- __[Pandas](https://pandas.pydata.org/)__ ,\n",
    "- __[SciPy](https://www.scipy.org/)__ ,\n",
    "- __[SciPy.stats](https://docs.scipy.org/doc/scipy/reference/stats.html)__ ,\n",
    "- __[Seaborn](https://seaborn.pydata.org/)__ ,\n",
    "- __[Matplotlib](https://matplotlib.org/)__  . \n",
    "\n",
    "Since our data was not fitting into any theoretical distributions, we use SciPy fit() method. "
   ]
  },
  {
   "cell_type": "markdown",
   "metadata": {},
   "source": [
    "### i. Loading and pre-processing the data"
   ]
  },
  {
   "cell_type": "code",
   "execution_count": 2,
   "metadata": {},
   "outputs": [],
   "source": [
    "filepath = \"./data_metro.csv\"\n",
    "df = pd.read_csv(filepath, encoding = \"ISO-8859-1\", error_bad_lines=False,low_memory=False, sep=\"\\t\")"
   ]
  },
  {
   "cell_type": "markdown",
   "metadata": {},
   "source": [
    "Current dataset contains 13 columns, most of them are stored as a string format. A few target columns have missing values.\n",
    "We need to start cleaning the data to make it easier to work."
   ]
  },
  {
   "cell_type": "code",
   "execution_count": 3,
   "metadata": {},
   "outputs": [
    {
     "data": {
      "text/plain": [
       "Index(['store_id', 'store_desc', 'CATMAN_BUY_DOMAIN_ID',\n",
       "       'CATMAN_BUY_DOMAIN_DESC', 'PCG_MAIN_CAT_ID', 'PCG_CAT_ID',\n",
       "       'PCG_CAT_DESC', 'PCG_SUB_CAT_ID', 'PCG_SUB_CAT_DESC', 'ART_NO',\n",
       "       'ART_NAME', 'Bv NNEK', 'Bv Stk', 'Bestand Ist NNEK',\n",
       "       'Bestand Ist Stück', 'WA Stück', 'Umsatz VK Netto', 'date_of_day',\n",
       "       'DAY_DESC'],\n",
       "      dtype='object')"
      ]
     },
     "execution_count": 3,
     "metadata": {},
     "output_type": "execute_result"
    }
   ],
   "source": [
    "df.columns"
   ]
  },
  {
   "cell_type": "markdown",
   "metadata": {},
   "source": [
    "Since we have got a row data, column names are not self-explanatory and difficult to work with. Column names have to be renamed into more accurately described ones."
   ]
  },
  {
   "cell_type": "code",
   "execution_count": 4,
   "metadata": {
    "scrolled": true
   },
   "outputs": [
    {
     "data": {
      "text/html": [
       "<div>\n",
       "<style scoped>\n",
       "    .dataframe tbody tr th:only-of-type {\n",
       "        vertical-align: middle;\n",
       "    }\n",
       "\n",
       "    .dataframe tbody tr th {\n",
       "        vertical-align: top;\n",
       "    }\n",
       "\n",
       "    .dataframe thead th {\n",
       "        text-align: right;\n",
       "    }\n",
       "</style>\n",
       "<table border=\"1\" class=\"dataframe\">\n",
       "  <thead>\n",
       "    <tr style=\"text-align: right;\">\n",
       "      <th></th>\n",
       "      <th>store_id</th>\n",
       "      <th>store_desc</th>\n",
       "      <th>purchasing_area_id</th>\n",
       "      <th>purchasing_area_description</th>\n",
       "      <th>main_product_group_id</th>\n",
       "      <th>product_group_category_id</th>\n",
       "      <th>product_group_category_description</th>\n",
       "      <th>product_subgroup_category_id</th>\n",
       "      <th>product_subgroup_category_description</th>\n",
       "      <th>article_number</th>\n",
       "      <th>article_name</th>\n",
       "      <th>daily_shrinkage_in_euros</th>\n",
       "      <th>daily_shrinkage_in_pieces</th>\n",
       "      <th>daily_stock_in_euros</th>\n",
       "      <th>daily_stock_in_pieces</th>\n",
       "      <th>daily_sales_in_pieces</th>\n",
       "      <th>daily_sales_in_euros</th>\n",
       "      <th>date_of_day</th>\n",
       "      <th>DAY_DESC</th>\n",
       "    </tr>\n",
       "  </thead>\n",
       "  <tbody>\n",
       "    <tr>\n",
       "      <td>329445</td>\n",
       "      <td>579</td>\n",
       "      <td>LIEFERDEPOT BERLIN</td>\n",
       "      <td>63</td>\n",
       "      <td>ACM FLEISCH</td>\n",
       "      <td>970</td>\n",
       "      <td>20</td>\n",
       "      <td>Rindfleisch frisch</td>\n",
       "      <td>56</td>\n",
       "      <td>Rind Roastbeef</td>\n",
       "      <td>539540</td>\n",
       "      <td>FAERSEN-ROASTBEEF M. KN.</td>\n",
       "      <td>NaN</td>\n",
       "      <td>NaN</td>\n",
       "      <td>0.0</td>\n",
       "      <td>0.0</td>\n",
       "      <td>NaN</td>\n",
       "      <td>NaN</td>\n",
       "      <td>22.01.20</td>\n",
       "      <td>22.01.20 Mit</td>\n",
       "    </tr>\n",
       "    <tr>\n",
       "      <td>619779</td>\n",
       "      <td>579</td>\n",
       "      <td>LIEFERDEPOT BERLIN</td>\n",
       "      <td>66</td>\n",
       "      <td>ACM BLUMEN</td>\n",
       "      <td>991</td>\n",
       "      <td>1</td>\n",
       "      <td>Topfpflanzen</td>\n",
       "      <td>9</td>\n",
       "      <td>Sonstige Jahresblueher</td>\n",
       "      <td>17266</td>\n",
       "      <td>BLUEHMIX CONTAINER 792</td>\n",
       "      <td>NaN</td>\n",
       "      <td>NaN</td>\n",
       "      <td>0.0</td>\n",
       "      <td>0.0</td>\n",
       "      <td>NaN</td>\n",
       "      <td>NaN</td>\n",
       "      <td>25.01.20</td>\n",
       "      <td>25.01.20 Sam</td>\n",
       "    </tr>\n",
       "    <tr>\n",
       "      <td>269266</td>\n",
       "      <td>579</td>\n",
       "      <td>LIEFERDEPOT BERLIN</td>\n",
       "      <td>64</td>\n",
       "      <td>ACM WURST</td>\n",
       "      <td>961</td>\n",
       "      <td>1</td>\n",
       "      <td>Snacks</td>\n",
       "      <td>5</td>\n",
       "      <td>Rohwurst Snacks</td>\n",
       "      <td>302227</td>\n",
       "      <td>300g WILTM. SALAMI SNACK GEFLU</td>\n",
       "      <td>NaN</td>\n",
       "      <td>NaN</td>\n",
       "      <td>0.0</td>\n",
       "      <td>0.0</td>\n",
       "      <td>NaN</td>\n",
       "      <td>NaN</td>\n",
       "      <td>18.01.20</td>\n",
       "      <td>18.01.20 Sam</td>\n",
       "    </tr>\n",
       "    <tr>\n",
       "      <td>706</td>\n",
       "      <td>579</td>\n",
       "      <td>LIEFERDEPOT BERLIN</td>\n",
       "      <td>63</td>\n",
       "      <td>ACM FLEISCH</td>\n",
       "      <td>806</td>\n",
       "      <td>1</td>\n",
       "      <td>Posten Fleisch</td>\n",
       "      <td>5</td>\n",
       "      <td>Lamm</td>\n",
       "      <td>4503</td>\n",
       "      <td>SA LAMM</td>\n",
       "      <td>NaN</td>\n",
       "      <td>NaN</td>\n",
       "      <td>0.0</td>\n",
       "      <td>0.0</td>\n",
       "      <td>NaN</td>\n",
       "      <td>NaN</td>\n",
       "      <td>25.01.20</td>\n",
       "      <td>25.01.20 Sam</td>\n",
       "    </tr>\n",
       "    <tr>\n",
       "      <td>164795</td>\n",
       "      <td>579</td>\n",
       "      <td>LIEFERDEPOT BERLIN</td>\n",
       "      <td>52</td>\n",
       "      <td>ACM MOLKEREIPRODUKTE</td>\n",
       "      <td>932</td>\n",
       "      <td>99</td>\n",
       "      <td>Sammelnummer</td>\n",
       "      <td>99</td>\n",
       "      <td>Sammelnummer</td>\n",
       "      <td>731389</td>\n",
       "      <td>PWHG 932SANR. INV. VOLL.</td>\n",
       "      <td>NaN</td>\n",
       "      <td>NaN</td>\n",
       "      <td>0.0</td>\n",
       "      <td>0.0</td>\n",
       "      <td>NaN</td>\n",
       "      <td>NaN</td>\n",
       "      <td>28.01.20</td>\n",
       "      <td>28.01.20 Die</td>\n",
       "    </tr>\n",
       "  </tbody>\n",
       "</table>\n",
       "</div>"
      ],
      "text/plain": [
       "        store_id          store_desc  purchasing_area_id  \\\n",
       "329445       579  LIEFERDEPOT BERLIN                  63   \n",
       "619779       579  LIEFERDEPOT BERLIN                  66   \n",
       "269266       579  LIEFERDEPOT BERLIN                  64   \n",
       "706          579  LIEFERDEPOT BERLIN                  63   \n",
       "164795       579  LIEFERDEPOT BERLIN                  52   \n",
       "\n",
       "       purchasing_area_description  main_product_group_id  \\\n",
       "329445                 ACM FLEISCH                    970   \n",
       "619779                  ACM BLUMEN                    991   \n",
       "269266                   ACM WURST                    961   \n",
       "706                    ACM FLEISCH                    806   \n",
       "164795        ACM MOLKEREIPRODUKTE                    932   \n",
       "\n",
       "        product_group_category_id product_group_category_description  \\\n",
       "329445                         20                 Rindfleisch frisch   \n",
       "619779                          1                       Topfpflanzen   \n",
       "269266                          1                             Snacks   \n",
       "706                             1                     Posten Fleisch   \n",
       "164795                         99                       Sammelnummer   \n",
       "\n",
       "        product_subgroup_category_id product_subgroup_category_description  \\\n",
       "329445                            56                        Rind Roastbeef   \n",
       "619779                             9                Sonstige Jahresblueher   \n",
       "269266                             5                       Rohwurst Snacks   \n",
       "706                                5                                  Lamm   \n",
       "164795                            99                          Sammelnummer   \n",
       "\n",
       "        article_number                    article_name  \\\n",
       "329445          539540        FAERSEN-ROASTBEEF M. KN.   \n",
       "619779           17266          BLUEHMIX CONTAINER 792   \n",
       "269266          302227  300g WILTM. SALAMI SNACK GEFLU   \n",
       "706               4503                         SA LAMM   \n",
       "164795          731389        PWHG 932SANR. INV. VOLL.   \n",
       "\n",
       "       daily_shrinkage_in_euros  daily_shrinkage_in_pieces  \\\n",
       "329445                      NaN                        NaN   \n",
       "619779                      NaN                        NaN   \n",
       "269266                      NaN                        NaN   \n",
       "706                         NaN                        NaN   \n",
       "164795                      NaN                        NaN   \n",
       "\n",
       "        daily_stock_in_euros  daily_stock_in_pieces  daily_sales_in_pieces  \\\n",
       "329445                   0.0                    0.0                    NaN   \n",
       "619779                   0.0                    0.0                    NaN   \n",
       "269266                   0.0                    0.0                    NaN   \n",
       "706                      0.0                    0.0                    NaN   \n",
       "164795                   0.0                    0.0                    NaN   \n",
       "\n",
       "        daily_sales_in_euros date_of_day      DAY_DESC  \n",
       "329445                   NaN    22.01.20  22.01.20 Mit  \n",
       "619779                   NaN    25.01.20  25.01.20 Sam  \n",
       "269266                   NaN    18.01.20  18.01.20 Sam  \n",
       "706                      NaN    25.01.20  25.01.20 Sam  \n",
       "164795                   NaN    28.01.20  28.01.20 Die  "
      ]
     },
     "execution_count": 4,
     "metadata": {},
     "output_type": "execute_result"
    }
   ],
   "source": [
    "df = df.rename(columns={\"CATMAN_BUY_DOMAIN_ID\": \"purchasing_area_id\", \n",
    "                   \"CATMAN_BUY_DOMAIN_DESC\" : \"purchasing_area_description\", \n",
    "                   \"PCG_MAIN_CAT_ID\" : \"main_product_group_id\",\n",
    "                   \"PCG_CAT_ID\" : \"product_group_category_id\",\n",
    "                   \"PCG_CAT_DESC\" : \"product_group_category_description\",\n",
    "                   \"PCG_SUB_CAT_ID\" : \"product_subgroup_category_id\",\n",
    "                   \"PCG_SUB_CAT_DESC\" : \"product_subgroup_category_description\",\n",
    "                            \"ART_NO\": \"article_number\",\n",
    "                            \"ART_NAME\":\"article_name\",\n",
    "                   \"Bv NNEK\" : \"daily_shrinkage_in_euros\",\n",
    "                   \"Bv Stk\" : \"daily_shrinkage_in_pieces\",\n",
    "                   \"Bestand Ist NNEK\": \"daily_stock_in_euros\",\n",
    "                   \"Bestand Ist Stück\": \"daily_stock_in_pieces\",\n",
    "                   \"WA Stück\": \"daily_sales_in_pieces\",\n",
    "                   \"Umsatz VK Netto\" : \"daily_sales_in_euros\"\n",
    "                   \n",
    "                  })\n",
    "df.sample(5)"
   ]
  },
  {
   "cell_type": "markdown",
   "metadata": {},
   "source": [
    "The data dictionary provided with the dataset is as the following:\n",
    "\n",
    "**store_id and store_desc** - number and name of the department store, we have got a data from only one store; \n",
    "\n",
    "**purchasing_area_id** and **purchasing_area_description** - id and name of the biggest category of products (11);\n",
    "\n",
    "**product_group_category_id** and **product_group_category_description** - id and name of more detailed category of products (179);\n",
    "\n",
    "**product_subgroup_category_id** and **product_subgroup_category_description** - id and name of small categories of products (773);\n",
    "\n",
    "**article_number** and **article_name**- number(23845) and name(23003) of each product;\n",
    "\n",
    "**daily_shrinkage_in_euros** and **daily_shrinkage_in_pieces** - shrinkage of each product in euros and in pieces;\n",
    "\n",
    "**daily_stock_in_euros** and **daily_stock_in_pieces** - daily stock of each product in euros and in pieces;\n",
    "\n",
    "**daily_sales_in_euros** and **daily_sales_in_pieces** - daily sales of each product in euros and in pieces;\n",
    "\n",
    "**date_of_day** - date (YYYY-MM-DD)\n",
    "\n",
    "**DAY_DESC** - date in a different format (DD.MM.YY Weekday)"
   ]
  },
  {
   "cell_type": "markdown",
   "metadata": {},
   "source": [
    "We are going to explore different categories of products to get familiar with them."
   ]
  },
  {
   "cell_type": "code",
   "execution_count": 5,
   "metadata": {
    "scrolled": false
   },
   "outputs": [
    {
     "data": {
      "text/plain": [
       "['ACM MOLKEREIPRODUKTE',\n",
       " 'ACM FLEISCH',\n",
       " 'ACM FRISCHFISCH',\n",
       " 'ACM BACKWAREN',\n",
       " 'ACM WURST',\n",
       " 'ACM BLUMEN',\n",
       " 'ACM FEINKOST',\n",
       " 'ACM KAESE',\n",
       " 'ACM GOURVENIENCE',\n",
       " 'ACM OBST',\n",
       " 'ACM GEMUESE']"
      ]
     },
     "execution_count": 5,
     "metadata": {},
     "output_type": "execute_result"
    }
   ],
   "source": [
    "df[\"purchasing_area_description\"].unique().tolist()"
   ]
  },
  {
   "cell_type": "code",
   "execution_count": 6,
   "metadata": {},
   "outputs": [
    {
     "data": {
      "text/plain": [
       "11"
      ]
     },
     "execution_count": 6,
     "metadata": {},
     "output_type": "execute_result"
    }
   ],
   "source": [
    "len(df[\"purchasing_area_description\"].unique().tolist())"
   ]
  },
  {
   "cell_type": "markdown",
   "metadata": {},
   "source": [
    "There are 11 purchasing areas of products."
   ]
  },
  {
   "cell_type": "code",
   "execution_count": 7,
   "metadata": {},
   "outputs": [
    {
     "data": {
      "text/plain": [
       "179"
      ]
     },
     "execution_count": 7,
     "metadata": {},
     "output_type": "execute_result"
    }
   ],
   "source": [
    "len(df[\"product_group_category_description\"].unique())"
   ]
  },
  {
   "cell_type": "markdown",
   "metadata": {},
   "source": [
    "There are 179 product categories."
   ]
  },
  {
   "cell_type": "code",
   "execution_count": 8,
   "metadata": {},
   "outputs": [
    {
     "data": {
      "text/plain": [
       "773"
      ]
     },
     "execution_count": 8,
     "metadata": {},
     "output_type": "execute_result"
    }
   ],
   "source": [
    "len(df[\"product_subgroup_category_description\"].unique().tolist())"
   ]
  },
  {
   "cell_type": "markdown",
   "metadata": {},
   "source": [
    "There are 773 product subcategories. This information we can use later when we will explore numeric variables of different products.\n",
    "\n",
    "Is there the same amount of article numbers as article names?\n",
    "First, there are 738671 rows in total. Now let's check how many unique article numbers and related products in the data set."
   ]
  },
  {
   "cell_type": "code",
   "execution_count": 9,
   "metadata": {},
   "outputs": [
    {
     "data": {
      "text/plain": [
       "23845"
      ]
     },
     "execution_count": 9,
     "metadata": {},
     "output_type": "execute_result"
    }
   ],
   "source": [
    "array_of_art_num = df[\"article_number\"].unique().tolist()\n",
    "len(array_of_art_num)"
   ]
  },
  {
   "cell_type": "markdown",
   "metadata": {},
   "source": [
    "Now we check number of names of the product."
   ]
  },
  {
   "cell_type": "code",
   "execution_count": 10,
   "metadata": {},
   "outputs": [
    {
     "data": {
      "text/plain": [
       "23003"
      ]
     },
     "execution_count": 10,
     "metadata": {},
     "output_type": "execute_result"
    }
   ],
   "source": [
    "array_of_art_name = df[\"article_name\"].unique().tolist()\n",
    "len(array_of_art_name)"
   ]
  },
  {
   "cell_type": "markdown",
   "metadata": {},
   "source": [
    "We got less product names then article numbers. This question was clarified with company data analyst. It is happening because sometimes the same products arrive to the store with the different article numbers. It is better to use article name."
   ]
  },
  {
   "cell_type": "markdown",
   "metadata": {},
   "source": [
    "## ii. Cleaning"
   ]
  },
  {
   "cell_type": "markdown",
   "metadata": {},
   "source": [
    "First, we explore types of data to find obvious parts which needed to be fixed."
   ]
  },
  {
   "cell_type": "code",
   "execution_count": 12,
   "metadata": {},
   "outputs": [
    {
     "data": {
      "text/plain": [
       "store_id                                   int64\n",
       "store_desc                                object\n",
       "purchasing_area_id                         int64\n",
       "purchasing_area_description               object\n",
       "main_product_group_id                      int64\n",
       "product_group_category_id                  int64\n",
       "product_group_category_description        object\n",
       "product_subgroup_category_id               int64\n",
       "product_subgroup_category_description     object\n",
       "article_number                             int64\n",
       "article_name                              object\n",
       "daily_shrinkage_in_euros                  object\n",
       "daily_shrinkage_in_pieces                float64\n",
       "daily_stock_in_euros                     float64\n",
       "daily_stock_in_pieces                    float64\n",
       "daily_sales_in_pieces                    float64\n",
       "daily_sales_in_euros                     float64\n",
       "date_of_day                               object\n",
       "DAY_DESC                                  object\n",
       "dtype: object"
      ]
     },
     "execution_count": 12,
     "metadata": {},
     "output_type": "execute_result"
    }
   ],
   "source": [
    "df.dtypes"
   ]
  },
  {
   "cell_type": "markdown",
   "metadata": {},
   "source": [
    "By exploring types of the dataframe, we determined a few issues which has to be managed in order to continue working with data:\n",
    "* daily_shrinkage_in_euros has an object type, but it has to be numeric;\n",
    "* categorical columns have an object type;\n",
    "* date_of_day has to be categorical."
   ]
  },
  {
   "cell_type": "code",
   "execution_count": 13,
   "metadata": {
    "scrolled": false
   },
   "outputs": [
    {
     "data": {
      "text/plain": [
       "dtype('float64')"
      ]
     },
     "execution_count": 13,
     "metadata": {},
     "output_type": "execute_result"
    }
   ],
   "source": [
    "df[\"daily_shrinkage_in_euros\"].replace(',','.',inplace = True, regex = True)\n",
    "df[[\"daily_shrinkage_in_euros\"]] = df[[\"daily_shrinkage_in_euros\"]].apply(pd.to_numeric)\n",
    "df[\"daily_shrinkage_in_euros\"].dtype"
   ]
  },
  {
   "cell_type": "markdown",
   "metadata": {},
   "source": [
    "Column \"daily_shrinkage_in_euros\" is float type with commas.\n",
    "\n",
    "Now we change the data type of all categorical columns such as \"purchasing_area_description\", \"product_group_category_description', \"product_subgroup_category_description','article_name' from object to category."
   ]
  },
  {
   "cell_type": "code",
   "execution_count": 14,
   "metadata": {},
   "outputs": [],
   "source": [
    "for col in [\"purchasing_area_description\", \"product_group_category_description\", \"product_subgroup_category_description\", \"article_name\"]:\n",
    "    df[col] = df[col].astype(\"category\")\n"
   ]
  },
  {
   "cell_type": "markdown",
   "metadata": {},
   "source": [
    "Date represented by two columns \"date_of_day\" and \"DAY_DESC\". We decided to use date_of_day column, and besides changing type, to extract additional information about weekday ans save it to the new column."
   ]
  },
  {
   "cell_type": "code",
   "execution_count": 15,
   "metadata": {},
   "outputs": [],
   "source": [
    "df[\"date_of_day\"]=pd.to_datetime(df[\"date_of_day\"], format=\"%d.%m.%y\")"
   ]
  },
  {
   "cell_type": "markdown",
   "metadata": {},
   "source": [
    "Now, when the column \"date_of_day\" has datetime type, we can extract an information about weekdays. This is going to be important column for the explorational part of the report later."
   ]
  },
  {
   "cell_type": "code",
   "execution_count": 16,
   "metadata": {
    "scrolled": false
   },
   "outputs": [
    {
     "data": {
      "text/plain": [
       "store_id                                          int64\n",
       "store_desc                                       object\n",
       "purchasing_area_id                                int64\n",
       "purchasing_area_description                    category\n",
       "main_product_group_id                             int64\n",
       "product_group_category_id                         int64\n",
       "product_group_category_description             category\n",
       "product_subgroup_category_id                      int64\n",
       "product_subgroup_category_description          category\n",
       "article_number                                    int64\n",
       "article_name                                   category\n",
       "daily_shrinkage_in_euros                        float64\n",
       "daily_shrinkage_in_pieces                       float64\n",
       "daily_stock_in_euros                            float64\n",
       "daily_stock_in_pieces                           float64\n",
       "daily_sales_in_pieces                           float64\n",
       "daily_sales_in_euros                            float64\n",
       "date_of_day                              datetime64[ns]\n",
       "DAY_DESC                                         object\n",
       "weekday                                        category\n",
       "dtype: object"
      ]
     },
     "execution_count": 16,
     "metadata": {},
     "output_type": "execute_result"
    }
   ],
   "source": [
    "df['weekday'] = df[\"date_of_day\"].dt.dayofweek.apply( lambda x: calendar.day_name[x])\n",
    "df['weekday'] = df['weekday'].astype('category')\n",
    "df.dtypes"
   ]
  },
  {
   "cell_type": "markdown",
   "metadata": {},
   "source": [
    "As a result of this part, we fixed types of data, but we have some data which is not going to be usefull for our report."
   ]
  },
  {
   "cell_type": "markdown",
   "metadata": {},
   "source": [
    "#### Exploring the null values and redundant data."
   ]
  },
  {
   "cell_type": "markdown",
   "metadata": {},
   "source": [
    "We have columns with redundant data which is not useful for our project. We can easily drop following colomns: \n",
    "- \"store_id\" and \"store_desc\" --> we have data for only one store;\n",
    "- \"DAY_DESC\" --> we have enough information about date;\n",
    "- purchasing_area_id, \"main_product_group_id\", \"product_group_category_id\", \"product_subgroup_category_id\" --> columns do not have usefull information for the current report;\n",
    "- \"article_number\" --> we have more accurate information about specific product in \"article_name\" column"
   ]
  },
  {
   "cell_type": "code",
   "execution_count": 17,
   "metadata": {},
   "outputs": [],
   "source": [
    "df = df.drop([\"store_id\",\"store_desc\",\"DAY_DESC\", \"purchasing_area_id\",\"main_product_group_id\", \"product_group_category_id\",\"article_number\", \"product_subgroup_category_id\"], axis = 1)"
   ]
  },
  {
   "cell_type": "code",
   "execution_count": 18,
   "metadata": {
    "scrolled": true
   },
   "outputs": [
    {
     "data": {
      "text/html": [
       "<div>\n",
       "<style scoped>\n",
       "    .dataframe tbody tr th:only-of-type {\n",
       "        vertical-align: middle;\n",
       "    }\n",
       "\n",
       "    .dataframe tbody tr th {\n",
       "        vertical-align: top;\n",
       "    }\n",
       "\n",
       "    .dataframe thead th {\n",
       "        text-align: right;\n",
       "    }\n",
       "</style>\n",
       "<table border=\"1\" class=\"dataframe\">\n",
       "  <thead>\n",
       "    <tr style=\"text-align: right;\">\n",
       "      <th></th>\n",
       "      <th>purchasing_area_description</th>\n",
       "      <th>product_group_category_description</th>\n",
       "      <th>product_subgroup_category_description</th>\n",
       "      <th>article_name</th>\n",
       "      <th>daily_shrinkage_in_euros</th>\n",
       "      <th>daily_shrinkage_in_pieces</th>\n",
       "      <th>daily_stock_in_euros</th>\n",
       "      <th>daily_stock_in_pieces</th>\n",
       "      <th>daily_sales_in_pieces</th>\n",
       "      <th>daily_sales_in_euros</th>\n",
       "      <th>date_of_day</th>\n",
       "      <th>weekday</th>\n",
       "    </tr>\n",
       "  </thead>\n",
       "  <tbody>\n",
       "    <tr>\n",
       "      <td>253126</td>\n",
       "      <td>ACM GOURVENIENCE</td>\n",
       "      <td>Gastro TKK</td>\n",
       "      <td>Dessert</td>\n",
       "      <td>4X1KG MCG KARAMELLSAUCE</td>\n",
       "      <td>NaN</td>\n",
       "      <td>NaN</td>\n",
       "      <td>0.0</td>\n",
       "      <td>0.0</td>\n",
       "      <td>NaN</td>\n",
       "      <td>NaN</td>\n",
       "      <td>2020-01-09</td>\n",
       "      <td>Thursday</td>\n",
       "    </tr>\n",
       "    <tr>\n",
       "      <td>716915</td>\n",
       "      <td>ACM BLUMEN</td>\n",
       "      <td>Laubgehoelze</td>\n",
       "      <td>Heckenpflanzen</td>\n",
       "      <td>MIXCONTAINER KOM.NR. 270/37</td>\n",
       "      <td>NaN</td>\n",
       "      <td>NaN</td>\n",
       "      <td>0.0</td>\n",
       "      <td>0.0</td>\n",
       "      <td>NaN</td>\n",
       "      <td>NaN</td>\n",
       "      <td>2020-01-07</td>\n",
       "      <td>Tuesday</td>\n",
       "    </tr>\n",
       "    <tr>\n",
       "      <td>589426</td>\n",
       "      <td>ACM GEMUESE</td>\n",
       "      <td>Kartoffel-Convenience</td>\n",
       "      <td>Kartoffel-Convenience</td>\n",
       "      <td>MC KARTOFFELSCHEIBEN 2kg</td>\n",
       "      <td>NaN</td>\n",
       "      <td>NaN</td>\n",
       "      <td>0.0</td>\n",
       "      <td>0.0</td>\n",
       "      <td>NaN</td>\n",
       "      <td>NaN</td>\n",
       "      <td>2020-01-21</td>\n",
       "      <td>Tuesday</td>\n",
       "    </tr>\n",
       "    <tr>\n",
       "      <td>571188</td>\n",
       "      <td>ACM GEMUESE</td>\n",
       "      <td>Gemuese-Convenience</td>\n",
       "      <td>Gemuese u. Gemuesemischungen</td>\n",
       "      <td>2,5kg ZWIEBELN ROT GANZ GESCHA</td>\n",
       "      <td>NaN</td>\n",
       "      <td>NaN</td>\n",
       "      <td>0.0</td>\n",
       "      <td>0.0</td>\n",
       "      <td>NaN</td>\n",
       "      <td>NaN</td>\n",
       "      <td>2020-01-11</td>\n",
       "      <td>Saturday</td>\n",
       "    </tr>\n",
       "    <tr>\n",
       "      <td>705861</td>\n",
       "      <td>ACM BLUMEN</td>\n",
       "      <td>Beet U. Balkonpflanzen</td>\n",
       "      <td>Sonstige Herbstblueher</td>\n",
       "      <td>Cornus im 32cm Topf ( Blueten</td>\n",
       "      <td>NaN</td>\n",
       "      <td>NaN</td>\n",
       "      <td>0.0</td>\n",
       "      <td>0.0</td>\n",
       "      <td>NaN</td>\n",
       "      <td>NaN</td>\n",
       "      <td>2020-01-20</td>\n",
       "      <td>Monday</td>\n",
       "    </tr>\n",
       "  </tbody>\n",
       "</table>\n",
       "</div>"
      ],
      "text/plain": [
       "       purchasing_area_description product_group_category_description  \\\n",
       "253126            ACM GOURVENIENCE                         Gastro TKK   \n",
       "716915                  ACM BLUMEN                       Laubgehoelze   \n",
       "589426                 ACM GEMUESE              Kartoffel-Convenience   \n",
       "571188                 ACM GEMUESE                Gemuese-Convenience   \n",
       "705861                  ACM BLUMEN             Beet U. Balkonpflanzen   \n",
       "\n",
       "       product_subgroup_category_description                    article_name  \\\n",
       "253126                               Dessert         4X1KG MCG KARAMELLSAUCE   \n",
       "716915                        Heckenpflanzen     MIXCONTAINER KOM.NR. 270/37   \n",
       "589426                 Kartoffel-Convenience        MC KARTOFFELSCHEIBEN 2kg   \n",
       "571188          Gemuese u. Gemuesemischungen  2,5kg ZWIEBELN ROT GANZ GESCHA   \n",
       "705861                Sonstige Herbstblueher   Cornus im 32cm Topf ( Blueten   \n",
       "\n",
       "        daily_shrinkage_in_euros  daily_shrinkage_in_pieces  \\\n",
       "253126                       NaN                        NaN   \n",
       "716915                       NaN                        NaN   \n",
       "589426                       NaN                        NaN   \n",
       "571188                       NaN                        NaN   \n",
       "705861                       NaN                        NaN   \n",
       "\n",
       "        daily_stock_in_euros  daily_stock_in_pieces  daily_sales_in_pieces  \\\n",
       "253126                   0.0                    0.0                    NaN   \n",
       "716915                   0.0                    0.0                    NaN   \n",
       "589426                   0.0                    0.0                    NaN   \n",
       "571188                   0.0                    0.0                    NaN   \n",
       "705861                   0.0                    0.0                    NaN   \n",
       "\n",
       "        daily_sales_in_euros date_of_day   weekday  \n",
       "253126                   NaN  2020-01-09  Thursday  \n",
       "716915                   NaN  2020-01-07   Tuesday  \n",
       "589426                   NaN  2020-01-21   Tuesday  \n",
       "571188                   NaN  2020-01-11  Saturday  \n",
       "705861                   NaN  2020-01-20    Monday  "
      ]
     },
     "execution_count": 18,
     "metadata": {},
     "output_type": "execute_result"
    }
   ],
   "source": [
    "df.sample(5)"
   ]
  },
  {
   "cell_type": "markdown",
   "metadata": {},
   "source": [
    "Now, when our data look more clean, we have to explore our rows on the missing values. And decide which method we can use to work with them."
   ]
  },
  {
   "cell_type": "code",
   "execution_count": 19,
   "metadata": {},
   "outputs": [
    {
     "name": "stdout",
     "output_type": "stream",
     "text": [
      "<class 'pandas.core.frame.DataFrame'>\n",
      "RangeIndex: 738671 entries, 0 to 738670\n",
      "Data columns (total 12 columns):\n",
      "purchasing_area_description              738671 non-null category\n",
      "product_group_category_description       738671 non-null category\n",
      "product_subgroup_category_description    738671 non-null category\n",
      "article_name                             738671 non-null category\n",
      "daily_shrinkage_in_euros                 597 non-null float64\n",
      "daily_shrinkage_in_pieces                597 non-null float64\n",
      "daily_stock_in_euros                     738671 non-null float64\n",
      "daily_stock_in_pieces                    738671 non-null float64\n",
      "daily_sales_in_pieces                    14075 non-null float64\n",
      "daily_sales_in_euros                     14075 non-null float64\n",
      "date_of_day                              738671 non-null datetime64[ns]\n",
      "weekday                                  738671 non-null category\n",
      "dtypes: category(5), datetime64[ns](1), float64(6)\n",
      "memory usage: 45.9 MB\n"
     ]
    }
   ],
   "source": [
    "df.info()"
   ]
  },
  {
   "cell_type": "code",
   "execution_count": 20,
   "metadata": {
    "scrolled": true
   },
   "outputs": [
    {
     "data": {
      "text/plain": [
       "purchasing_area_description                   0\n",
       "product_group_category_description            0\n",
       "product_subgroup_category_description         0\n",
       "article_name                                  0\n",
       "daily_shrinkage_in_euros                 738074\n",
       "daily_shrinkage_in_pieces                738074\n",
       "daily_stock_in_euros                          0\n",
       "daily_stock_in_pieces                         0\n",
       "daily_sales_in_pieces                    724596\n",
       "daily_sales_in_euros                     724596\n",
       "date_of_day                                   0\n",
       "weekday                                       0\n",
       "dtype: int64"
      ]
     },
     "execution_count": 20,
     "metadata": {},
     "output_type": "execute_result"
    }
   ],
   "source": [
    "df.isnull().sum()"
   ]
  },
  {
   "cell_type": "markdown",
   "metadata": {},
   "source": [
    "Target columns are \"daily_shrinkage_in_euros\", \"daily_stock_in_euros\" and \"daily_sales_in_euros\", but for the analyse we need some valid values. We can see that there are 738074 null values(99%)for \"daily_shrinkage_in_euros\" and 724596 (98%) for daily_sales_in_euros. The main question here is how we can work with null values?"
   ]
  },
  {
   "cell_type": "code",
   "execution_count": 21,
   "metadata": {},
   "outputs": [
    {
     "data": {
      "text/plain": [
       "(597, 12)"
      ]
     },
     "execution_count": 21,
     "metadata": {},
     "output_type": "execute_result"
    }
   ],
   "source": [
    "df[df[\"daily_shrinkage_in_euros\"].isnull()== False].shape"
   ]
  },
  {
   "cell_type": "code",
   "execution_count": 22,
   "metadata": {},
   "outputs": [
    {
     "data": {
      "text/plain": [
       "(14075, 12)"
      ]
     },
     "execution_count": 22,
     "metadata": {},
     "output_type": "execute_result"
    }
   ],
   "source": [
    "df[df[\"daily_sales_in_euros\"].isnull()== False].shape"
   ]
  },
  {
   "cell_type": "markdown",
   "metadata": {},
   "source": [
    "- There are 597 pruducts that have value for shrinkage and 14075 products that have values for sales. We cannot follow the technique of dropping null values. \n",
    "- Also we considered a method to estimate some of the missing values by exploring more deep each product. For this, we checked a few products out of each purchasing area and did not find any pattern which we could use to esstimate the missing values. Most of the products do not have stable day by day record. \n",
    "\n",
    "We did not include massive exploration of each product into the following report, but in general we can use following function to explore missing values in depth by each article name. "
   ]
  },
  {
   "cell_type": "code",
   "execution_count": 23,
   "metadata": {
    "scrolled": true
   },
   "outputs": [
    {
     "data": {
      "text/html": [
       "<div>\n",
       "<style scoped>\n",
       "    .dataframe tbody tr th:only-of-type {\n",
       "        vertical-align: middle;\n",
       "    }\n",
       "\n",
       "    .dataframe tbody tr th {\n",
       "        vertical-align: top;\n",
       "    }\n",
       "\n",
       "    .dataframe thead tr th {\n",
       "        text-align: left;\n",
       "    }\n",
       "\n",
       "    .dataframe thead tr:last-of-type th {\n",
       "        text-align: right;\n",
       "    }\n",
       "</style>\n",
       "<table border=\"1\" class=\"dataframe\">\n",
       "  <thead>\n",
       "    <tr>\n",
       "      <th></th>\n",
       "      <th colspan=\"3\" halign=\"left\">purchasing_area_description</th>\n",
       "      <th colspan=\"3\" halign=\"left\">product_group_category_description</th>\n",
       "      <th colspan=\"3\" halign=\"left\">product_subgroup_category_description</th>\n",
       "      <th>daily_shrinkage_in_euros</th>\n",
       "      <th>...</th>\n",
       "      <th>daily_sales_in_pieces</th>\n",
       "      <th colspan=\"3\" halign=\"left\">daily_sales_in_euros</th>\n",
       "      <th colspan=\"3\" halign=\"left\">date_of_day</th>\n",
       "      <th colspan=\"3\" halign=\"left\">weekday</th>\n",
       "    </tr>\n",
       "    <tr>\n",
       "      <th></th>\n",
       "      <th>count</th>\n",
       "      <th>countna</th>\n",
       "      <th>size</th>\n",
       "      <th>count</th>\n",
       "      <th>countna</th>\n",
       "      <th>size</th>\n",
       "      <th>count</th>\n",
       "      <th>countna</th>\n",
       "      <th>size</th>\n",
       "      <th>count</th>\n",
       "      <th>...</th>\n",
       "      <th>size</th>\n",
       "      <th>count</th>\n",
       "      <th>countna</th>\n",
       "      <th>size</th>\n",
       "      <th>count</th>\n",
       "      <th>countna</th>\n",
       "      <th>size</th>\n",
       "      <th>count</th>\n",
       "      <th>countna</th>\n",
       "      <th>size</th>\n",
       "    </tr>\n",
       "    <tr>\n",
       "      <th>article_name</th>\n",
       "      <th></th>\n",
       "      <th></th>\n",
       "      <th></th>\n",
       "      <th></th>\n",
       "      <th></th>\n",
       "      <th></th>\n",
       "      <th></th>\n",
       "      <th></th>\n",
       "      <th></th>\n",
       "      <th></th>\n",
       "      <th></th>\n",
       "      <th></th>\n",
       "      <th></th>\n",
       "      <th></th>\n",
       "      <th></th>\n",
       "      <th></th>\n",
       "      <th></th>\n",
       "      <th></th>\n",
       "      <th></th>\n",
       "      <th></th>\n",
       "      <th></th>\n",
       "    </tr>\n",
       "  </thead>\n",
       "  <tbody>\n",
       "    <tr>\n",
       "      <td>TOMATEN GOURMET MIX KI</td>\n",
       "      <td>31</td>\n",
       "      <td>0</td>\n",
       "      <td>31</td>\n",
       "      <td>31</td>\n",
       "      <td>0</td>\n",
       "      <td>31</td>\n",
       "      <td>31</td>\n",
       "      <td>0</td>\n",
       "      <td>31</td>\n",
       "      <td>0</td>\n",
       "      <td>...</td>\n",
       "      <td>31</td>\n",
       "      <td>0</td>\n",
       "      <td>31.0</td>\n",
       "      <td>31</td>\n",
       "      <td>31</td>\n",
       "      <td>0</td>\n",
       "      <td>31</td>\n",
       "      <td>31</td>\n",
       "      <td>0</td>\n",
       "      <td>31</td>\n",
       "    </tr>\n",
       "    <tr>\n",
       "      <td>ITAL.SALSICCIA PEPERON. CA0,35</td>\n",
       "      <td>31</td>\n",
       "      <td>0</td>\n",
       "      <td>31</td>\n",
       "      <td>31</td>\n",
       "      <td>0</td>\n",
       "      <td>31</td>\n",
       "      <td>31</td>\n",
       "      <td>0</td>\n",
       "      <td>31</td>\n",
       "      <td>0</td>\n",
       "      <td>...</td>\n",
       "      <td>31</td>\n",
       "      <td>0</td>\n",
       "      <td>31.0</td>\n",
       "      <td>31</td>\n",
       "      <td>31</td>\n",
       "      <td>0</td>\n",
       "      <td>31</td>\n",
       "      <td>31</td>\n",
       "      <td>0</td>\n",
       "      <td>31</td>\n",
       "    </tr>\n",
       "  </tbody>\n",
       "</table>\n",
       "<p>2 rows × 33 columns</p>\n",
       "</div>"
      ],
      "text/plain": [
       "                               purchasing_area_description               \\\n",
       "                                                     count countna size   \n",
       "article_name                                                              \n",
       "TOMATEN GOURMET MIX KI                                  31       0   31   \n",
       "ITAL.SALSICCIA PEPERON. CA0,35                          31       0   31   \n",
       "\n",
       "                               product_group_category_description          \\\n",
       "                                                            count countna   \n",
       "article_name                                                                \n",
       "TOMATEN GOURMET MIX KI                                         31       0   \n",
       "ITAL.SALSICCIA PEPERON. CA0,35                                 31       0   \n",
       "\n",
       "                                    product_subgroup_category_description  \\\n",
       "                               size                                 count   \n",
       "article_name                                                                \n",
       "TOMATEN GOURMET MIX KI           31                                    31   \n",
       "ITAL.SALSICCIA PEPERON. CA0,35   31                                    31   \n",
       "\n",
       "                                            daily_shrinkage_in_euros  ...  \\\n",
       "                               countna size                    count  ...   \n",
       "article_name                                                          ...   \n",
       "TOMATEN GOURMET MIX KI               0   31                        0  ...   \n",
       "ITAL.SALSICCIA PEPERON. CA0,35       0   31                        0  ...   \n",
       "\n",
       "                               daily_sales_in_pieces daily_sales_in_euros  \\\n",
       "                                                size                count   \n",
       "article_name                                                                \n",
       "TOMATEN GOURMET MIX KI                            31                    0   \n",
       "ITAL.SALSICCIA PEPERON. CA0,35                    31                    0   \n",
       "\n",
       "                                            date_of_day              weekday  \\\n",
       "                               countna size       count countna size   count   \n",
       "article_name                                                                   \n",
       "TOMATEN GOURMET MIX KI            31.0   31          31       0   31      31   \n",
       "ITAL.SALSICCIA PEPERON. CA0,35    31.0   31          31       0   31      31   \n",
       "\n",
       "                                             \n",
       "                               countna size  \n",
       "article_name                                 \n",
       "TOMATEN GOURMET MIX KI               0   31  \n",
       "ITAL.SALSICCIA PEPERON. CA0,35       0   31  \n",
       "\n",
       "[2 rows x 33 columns]"
      ]
     },
     "execution_count": 23,
     "metadata": {},
     "output_type": "execute_result"
    }
   ],
   "source": [
    "gdf = df.groupby([\"article_name\"])\n",
    "def countna(x):\n",
    "    return (x.isna()).sum()\n",
    "gdf.agg(['count', countna, 'size']).sample(2)"
   ]
  },
  {
   "cell_type": "markdown",
   "metadata": {},
   "source": [
    "Function above has just approved that for the most of products there are missing values every day and that's why it is impossible to use any approach for esstimation.\n",
    "As a result, to drop a data with missing values is not a good choice, because we lose the information and would have ended up with very small dataset. \n",
    "\n",
    "We made a following decision to check how many columns has both \"NaN\" values for sales and for schrinkage and to drop the rows only in this case."
   ]
  },
  {
   "cell_type": "code",
   "execution_count": 24,
   "metadata": {
    "scrolled": true
   },
   "outputs": [
    {
     "data": {
      "text/plain": [
       "(14406, 12)"
      ]
     },
     "execution_count": 24,
     "metadata": {},
     "output_type": "execute_result"
    }
   ],
   "source": [
    "df = df.dropna(subset=[\"daily_shrinkage_in_euros\", \"daily_sales_in_euros\"], how=\"all\")\n",
    "df.shape"
   ]
  },
  {
   "cell_type": "markdown",
   "metadata": {},
   "source": [
    "After dropping NaN values, there are 14406 rows."
   ]
  },
  {
   "cell_type": "markdown",
   "metadata": {},
   "source": [
    "We had a few consulting sessions with Data Analysts from \"Metro\". The main insights are following:\n",
    "- most of the data for shrinkage has been done by employees and has a human factors in case of wrong inputs,\n",
    "- the reasons behind NaN values for \"daily_shrinkage\" and \"daily_sales\" is missing information which could be filled with zero values and interpreted as \"not exist\"."
   ]
  },
  {
   "cell_type": "code",
   "execution_count": 25,
   "metadata": {},
   "outputs": [
    {
     "name": "stderr",
     "output_type": "stream",
     "text": [
      "/opt/anaconda3/lib/python3.7/site-packages/ipykernel_launcher.py:1: SettingWithCopyWarning: \n",
      "A value is trying to be set on a copy of a slice from a DataFrame.\n",
      "Try using .loc[row_indexer,col_indexer] = value instead\n",
      "\n",
      "See the caveats in the documentation: http://pandas.pydata.org/pandas-docs/stable/user_guide/indexing.html#returning-a-view-versus-a-copy\n",
      "  \"\"\"Entry point for launching an IPython kernel.\n",
      "/opt/anaconda3/lib/python3.7/site-packages/ipykernel_launcher.py:2: SettingWithCopyWarning: \n",
      "A value is trying to be set on a copy of a slice from a DataFrame.\n",
      "Try using .loc[row_indexer,col_indexer] = value instead\n",
      "\n",
      "See the caveats in the documentation: http://pandas.pydata.org/pandas-docs/stable/user_guide/indexing.html#returning-a-view-versus-a-copy\n",
      "  \n",
      "/opt/anaconda3/lib/python3.7/site-packages/ipykernel_launcher.py:3: SettingWithCopyWarning: \n",
      "A value is trying to be set on a copy of a slice from a DataFrame.\n",
      "Try using .loc[row_indexer,col_indexer] = value instead\n",
      "\n",
      "See the caveats in the documentation: http://pandas.pydata.org/pandas-docs/stable/user_guide/indexing.html#returning-a-view-versus-a-copy\n",
      "  This is separate from the ipykernel package so we can avoid doing imports until\n",
      "/opt/anaconda3/lib/python3.7/site-packages/ipykernel_launcher.py:4: SettingWithCopyWarning: \n",
      "A value is trying to be set on a copy of a slice from a DataFrame.\n",
      "Try using .loc[row_indexer,col_indexer] = value instead\n",
      "\n",
      "See the caveats in the documentation: http://pandas.pydata.org/pandas-docs/stable/user_guide/indexing.html#returning-a-view-versus-a-copy\n",
      "  after removing the cwd from sys.path.\n"
     ]
    },
    {
     "data": {
      "text/plain": [
       "purchasing_area_description              0\n",
       "product_group_category_description       0\n",
       "product_subgroup_category_description    0\n",
       "article_name                             0\n",
       "daily_shrinkage_in_euros                 0\n",
       "daily_shrinkage_in_pieces                0\n",
       "daily_stock_in_euros                     0\n",
       "daily_stock_in_pieces                    0\n",
       "daily_sales_in_pieces                    0\n",
       "daily_sales_in_euros                     0\n",
       "date_of_day                              0\n",
       "weekday                                  0\n",
       "dtype: int64"
      ]
     },
     "execution_count": 25,
     "metadata": {},
     "output_type": "execute_result"
    }
   ],
   "source": [
    "df[\"daily_sales_in_pieces\"] = df[\"daily_sales_in_pieces\"].fillna(0)\n",
    "df[\"daily_sales_in_euros\"] = df[\"daily_sales_in_euros\"].fillna(0)\n",
    "df[\"daily_shrinkage_in_pieces\"] = df[\"daily_shrinkage_in_pieces\"].fillna(0)\n",
    "df[\"daily_shrinkage_in_euros\"] = df[\"daily_shrinkage_in_euros\"].fillna(0)\n",
    "df.isnull().sum()"
   ]
  },
  {
   "cell_type": "markdown",
   "metadata": {},
   "source": [
    "In addition, we discussed business logic behind shrinkage with data analyst from \"Metro\" and came to the conclusion, that:\n",
    "- shinkage could be only negative. So positive shrinkage is probably mistake of the system or wrong input. \n",
    "- sales could be only positive and negative values is a mistake.\n",
    "\n",
    "Let's determine what percentage of our data has invalid values in these column."
   ]
  },
  {
   "cell_type": "code",
   "execution_count": 26,
   "metadata": {},
   "outputs": [
    {
     "data": {
      "text/plain": [
       "0.0005553241704845203"
      ]
     },
     "execution_count": 26,
     "metadata": {},
     "output_type": "execute_result"
    }
   ],
   "source": [
    "len(df[df[\"daily_shrinkage_in_euros\"] > 0])/df.shape[0]"
   ]
  },
  {
   "cell_type": "code",
   "execution_count": 27,
   "metadata": {},
   "outputs": [
    {
     "data": {
      "text/plain": [
       "0.006455643481882549"
      ]
     },
     "execution_count": 27,
     "metadata": {},
     "output_type": "execute_result"
    }
   ],
   "source": [
    "len(df[df[\"daily_sales_in_euros\"] < 0])/df.shape[0]"
   ]
  },
  {
   "cell_type": "markdown",
   "metadata": {},
   "source": [
    "We have explored only 8 rows with positive shrinkage and 93 rows with negative sales. Given that this is less then 1% of data, we will remove these rows."
   ]
  },
  {
   "cell_type": "code",
   "execution_count": 28,
   "metadata": {},
   "outputs": [],
   "source": [
    "df = df[df[\"daily_shrinkage_in_euros\"] <= 0]"
   ]
  },
  {
   "cell_type": "code",
   "execution_count": 29,
   "metadata": {},
   "outputs": [],
   "source": [
    "df = df[df[\"daily_sales_in_euros\"] >= 0]"
   ]
  },
  {
   "cell_type": "code",
   "execution_count": 30,
   "metadata": {},
   "outputs": [
    {
     "data": {
      "text/plain": [
       "purchasing_area_description              14305\n",
       "product_group_category_description       14305\n",
       "product_subgroup_category_description    14305\n",
       "article_name                             14305\n",
       "daily_shrinkage_in_euros                 14305\n",
       "daily_shrinkage_in_pieces                14305\n",
       "daily_stock_in_euros                     14305\n",
       "daily_stock_in_pieces                    14305\n",
       "daily_sales_in_pieces                    14305\n",
       "daily_sales_in_euros                     14305\n",
       "date_of_day                              14305\n",
       "weekday                                  14305\n",
       "dtype: int64"
      ]
     },
     "execution_count": 30,
     "metadata": {},
     "output_type": "execute_result"
    }
   ],
   "source": [
    "df.count()"
   ]
  },
  {
   "cell_type": "markdown",
   "metadata": {},
   "source": [
    "During the cleaning process, we have done following steps:\n",
    "1. changed data types for columns;\n",
    "2. worked with date column and extract information about weekdays so we could use it later;\n",
    "3. removed columns with unnecessary information;\n",
    "4. removed rows with null values for both columns: daily_shrinkage_in_euros and daily_sales_in_euros;\n",
    "5. filled missing values for daily_shrinkage_in_euros and daily_sales_in_euros with zeroes.\n",
    "6. removed rows with positive values for shrinkage and negative values for sales.\n",
    "\n",
    "We have got 14327 rows to analyse. "
   ]
  },
  {
   "cell_type": "markdown",
   "metadata": {},
   "source": [
    "## iii. Exploring the Data"
   ]
  },
  {
   "cell_type": "markdown",
   "metadata": {},
   "source": [
    "#### Exploring trends of sales, stock and shrinkage\n",
    "\n",
    "We'll begin by exploring our trends of shrinkage, sales and stock by each day during a given month. "
   ]
  },
  {
   "cell_type": "code",
   "execution_count": 31,
   "metadata": {},
   "outputs": [
    {
     "data": {
      "text/html": [
       "<div>\n",
       "<style scoped>\n",
       "    .dataframe tbody tr th:only-of-type {\n",
       "        vertical-align: middle;\n",
       "    }\n",
       "\n",
       "    .dataframe tbody tr th {\n",
       "        vertical-align: top;\n",
       "    }\n",
       "\n",
       "    .dataframe thead th {\n",
       "        text-align: right;\n",
       "    }\n",
       "</style>\n",
       "<table border=\"1\" class=\"dataframe\">\n",
       "  <thead>\n",
       "    <tr style=\"text-align: right;\">\n",
       "      <th></th>\n",
       "      <th>daily_shrinkage_in_euros</th>\n",
       "      <th>daily_sales_in_euros</th>\n",
       "      <th>daily_stock_in_euros</th>\n",
       "    </tr>\n",
       "    <tr>\n",
       "      <th>date_of_day</th>\n",
       "      <th></th>\n",
       "      <th></th>\n",
       "      <th></th>\n",
       "    </tr>\n",
       "  </thead>\n",
       "  <tbody>\n",
       "    <tr>\n",
       "      <td>2020-01-06</td>\n",
       "      <td>-1797.9962</td>\n",
       "      <td>38821.733</td>\n",
       "      <td>102284.405</td>\n",
       "    </tr>\n",
       "    <tr>\n",
       "      <td>2020-01-17</td>\n",
       "      <td>-1042.1242</td>\n",
       "      <td>23136.703</td>\n",
       "      <td>77003.899</td>\n",
       "    </tr>\n",
       "    <tr>\n",
       "      <td>2020-01-02</td>\n",
       "      <td>-925.6620</td>\n",
       "      <td>32879.077</td>\n",
       "      <td>98505.088</td>\n",
       "    </tr>\n",
       "  </tbody>\n",
       "</table>\n",
       "</div>"
      ],
      "text/plain": [
       "             daily_shrinkage_in_euros  daily_sales_in_euros  \\\n",
       "date_of_day                                                   \n",
       "2020-01-06                 -1797.9962             38821.733   \n",
       "2020-01-17                 -1042.1242             23136.703   \n",
       "2020-01-02                  -925.6620             32879.077   \n",
       "\n",
       "             daily_stock_in_euros  \n",
       "date_of_day                        \n",
       "2020-01-06             102284.405  \n",
       "2020-01-17              77003.899  \n",
       "2020-01-02              98505.088  "
      ]
     },
     "execution_count": 31,
     "metadata": {},
     "output_type": "execute_result"
    }
   ],
   "source": [
    "df_by_date= df.groupby(\"date_of_day\")[\"daily_shrinkage_in_euros\", \"daily_sales_in_euros\", \"daily_stock_in_euros\"].sum().reset_index()\n",
    "df_by_date=df_by_date.set_index(\"date_of_day\", drop=True, append=False, inplace=False)\n",
    "df_by_date= df_by_date[df_by_date[\"daily_sales_in_euros\"]>0]\n",
    "df_by_date.sample(3)"
   ]
  },
  {
   "cell_type": "code",
   "execution_count": 78,
   "metadata": {
    "scrolled": true
   },
   "outputs": [
    {
     "data": {
      "image/png": "[encoded data removed]",
      "text/plain": [
       "<Figure size 432x288 with 1 Axes>"
      ]
     },
     "metadata": {
      "needs_background": "light"
     },
     "output_type": "display_data"
    }
   ],
   "source": [
    "fig, ax = plt.subplots()\n",
    "\n",
    "sns.pointplot( x=df_by_date.index,y='daily_shrinkage_in_euros',data=df_by_date,color='lightblue')\n",
    "sns.pointplot( x=df_by_date.index, y='daily_sales_in_euros',data=df_by_date,color='lightgreen')\n",
    "sns.pointplot( x=df_by_date.index,y='daily_stock_in_euros',data=df_by_date,color='silver')\n",
    "plt.xlabel('Date, YYYY-MM-DD',fontsize = 12,color='black')\n",
    "plt.ylabel('Total amount by day, EUR',fontsize = 12,color='black')\n",
    "\n",
    "ax.set_xticklabels(ax.get_xticklabels(), rotation=90)\n",
    "\n",
    "plt.gca().xaxis.set_major_formatter(plt.FixedFormatter(df_by_date.index.to_series().dt.strftime(\"%Y-%m-%d\")))\n",
    "shrinkage_patch = mpatches.Patch(color='lightblue', label='Shrinkage')\n",
    "stock_patch = mpatches.Patch(color='lightgreen', label='Sales')\n",
    "sales_patch = mpatches.Patch(color='silver', label='Stock')\n",
    "plt.legend(handles=[shrinkage_patch, stock_patch, sales_patch])\n",
    " \n",
    "plt.grid()"
   ]
  },
  {
   "cell_type": "markdown",
   "metadata": {},
   "source": [
    "*Figure 1. Trends of shrinkage, sales and stock in euros between 1st and 31st of January 2020.* "
   ]
  },
  {
   "cell_type": "markdown",
   "metadata": {},
   "source": [
    "Figure 1 shows that shrinkage is staying the same low during a month. There is some raise of srinkage 2nd of January, it could be effected by holidays, probably because the store had more products for holidays and it could get spoiled. Also Figure 1 shows sales and stock drop on special dates (10th, 17 th, 24th of January), it is Friday so we are guessing that there is some dependency on weekday."
   ]
  },
  {
   "cell_type": "code",
   "execution_count": 33,
   "metadata": {
    "scrolled": true
   },
   "outputs": [
    {
     "data": {
      "text/html": [
       "<div>\n",
       "<style scoped>\n",
       "    .dataframe tbody tr th:only-of-type {\n",
       "        vertical-align: middle;\n",
       "    }\n",
       "\n",
       "    .dataframe tbody tr th {\n",
       "        vertical-align: top;\n",
       "    }\n",
       "\n",
       "    .dataframe thead th {\n",
       "        text-align: right;\n",
       "    }\n",
       "</style>\n",
       "<table border=\"1\" class=\"dataframe\">\n",
       "  <thead>\n",
       "    <tr style=\"text-align: right;\">\n",
       "      <th></th>\n",
       "      <th>daily_shrinkage_in_euros</th>\n",
       "      <th>daily_sales_in_euros</th>\n",
       "      <th>daily_stock_in_euros</th>\n",
       "    </tr>\n",
       "  </thead>\n",
       "  <tbody>\n",
       "    <tr>\n",
       "      <td>daily_shrinkage_in_euros</td>\n",
       "      <td>1.000000</td>\n",
       "      <td>0.276422</td>\n",
       "      <td>0.152580</td>\n",
       "    </tr>\n",
       "    <tr>\n",
       "      <td>daily_sales_in_euros</td>\n",
       "      <td>0.276422</td>\n",
       "      <td>1.000000</td>\n",
       "      <td>0.833311</td>\n",
       "    </tr>\n",
       "    <tr>\n",
       "      <td>daily_stock_in_euros</td>\n",
       "      <td>0.152580</td>\n",
       "      <td>0.833311</td>\n",
       "      <td>1.000000</td>\n",
       "    </tr>\n",
       "  </tbody>\n",
       "</table>\n",
       "</div>"
      ],
      "text/plain": [
       "                          daily_shrinkage_in_euros  daily_sales_in_euros  \\\n",
       "daily_shrinkage_in_euros                  1.000000              0.276422   \n",
       "daily_sales_in_euros                      0.276422              1.000000   \n",
       "daily_stock_in_euros                      0.152580              0.833311   \n",
       "\n",
       "                          daily_stock_in_euros  \n",
       "daily_shrinkage_in_euros              0.152580  \n",
       "daily_sales_in_euros                  0.833311  \n",
       "daily_stock_in_euros                  1.000000  "
      ]
     },
     "execution_count": 33,
     "metadata": {},
     "output_type": "execute_result"
    }
   ],
   "source": [
    "df_by_date.corr()"
   ]
  },
  {
   "cell_type": "markdown",
   "metadata": {},
   "source": [
    "Correlation coefficient between sales and stock in euros by day is +0,83. It means we have positive correlation, both variables move in the same direction (Figure 2)."
   ]
  },
  {
   "cell_type": "code",
   "execution_count": 34,
   "metadata": {},
   "outputs": [
    {
     "data": {
      "image/png": "[encoded data removed]",
      "text/plain": [
       "<Figure size 540x540 with 12 Axes>"
      ]
     },
     "metadata": {
      "needs_background": "light"
     },
     "output_type": "display_data"
    }
   ],
   "source": [
    "sns.pairplot(df_by_date);"
   ]
  },
  {
   "cell_type": "markdown",
   "metadata": {},
   "source": [
    "*Figure 2. Visualisation of relationships between all possible pairs of numeric variable groped by calender day* "
   ]
  },
  {
   "cell_type": "markdown",
   "metadata": {},
   "source": [
    "Using the new dataframe grouped by the calender day, we observed an relationship between sales and stock by day. Later we check it again on the whole dataset."
   ]
  },
  {
   "cell_type": "markdown",
   "metadata": {},
   "source": [
    "#### Explorind weekdays"
   ]
  },
  {
   "cell_type": "markdown",
   "metadata": {},
   "source": [
    "On the previous step we assumed that sales and stock dependends on weekday. We will explore the assumption more by creating  a new dataframe where the main variables are groupped by a weekday. Since department store is not getting any input on Saturday and Sunday, we do not need these days in our plots."
   ]
  },
  {
   "cell_type": "code",
   "execution_count": 74,
   "metadata": {},
   "outputs": [
    {
     "data": {
      "text/html": [
       "<div>\n",
       "<style scoped>\n",
       "    .dataframe tbody tr th:only-of-type {\n",
       "        vertical-align: middle;\n",
       "    }\n",
       "\n",
       "    .dataframe tbody tr th {\n",
       "        vertical-align: top;\n",
       "    }\n",
       "\n",
       "    .dataframe thead th {\n",
       "        text-align: right;\n",
       "    }\n",
       "</style>\n",
       "<table border=\"1\" class=\"dataframe\">\n",
       "  <thead>\n",
       "    <tr style=\"text-align: right;\">\n",
       "      <th></th>\n",
       "      <th>weekday</th>\n",
       "      <th>daily_shrinkage_in_euros</th>\n",
       "      <th>daily_stock_in_euros</th>\n",
       "      <th>daily_sales_in_euros</th>\n",
       "      <th>absolute_shrinkage</th>\n",
       "    </tr>\n",
       "  </thead>\n",
       "  <tbody>\n",
       "    <tr>\n",
       "      <td>4</td>\n",
       "      <td>Friday</td>\n",
       "      <td>-9617.0413</td>\n",
       "      <td>386143.564</td>\n",
       "      <td>113097.963</td>\n",
       "      <td>9617.0413</td>\n",
       "    </tr>\n",
       "  </tbody>\n",
       "</table>\n",
       "</div>"
      ],
      "text/plain": [
       "  weekday  daily_shrinkage_in_euros  daily_stock_in_euros  \\\n",
       "4  Friday                -9617.0413            386143.564   \n",
       "\n",
       "   daily_sales_in_euros  absolute_shrinkage  \n",
       "4            113097.963           9617.0413  "
      ]
     },
     "execution_count": 74,
     "metadata": {},
     "output_type": "execute_result"
    }
   ],
   "source": [
    "cats = ['Monday', 'Tuesday', 'Wednesday', 'Thursday', 'Friday', 'Saturday', 'Sunday']\n",
    "df_by_weekday=df.groupby(\"weekday\")[\"daily_shrinkage_in_euros\",\"daily_stock_in_euros\", \"daily_sales_in_euros\"].sum().reindex(cats)\n",
    "df_by_weekday.reset_index(inplace=True)\n",
    "df_by_weekday = df_by_weekday.drop(index=[5, 6])\n",
    "df_by_weekday[\"absolute_shrinkage\"] = df_by_weekday[\"daily_shrinkage_in_euros\"].apply(abs)\n",
    "df_by_weekday.sample(1)"
   ]
  },
  {
   "cell_type": "code",
   "execution_count": 76,
   "metadata": {},
   "outputs": [
    {
     "data": {
      "text/plain": [
       "Text(0, 0.5, 'Total amount, EUR')"
      ]
     },
     "execution_count": 76,
     "metadata": {},
     "output_type": "execute_result"
    },
    {
     "data": {
      "image/png": "[encoded data removed]",
      "text/plain": [
       "<Figure size 360x504 with 1 Axes>"
      ]
     },
     "metadata": {
      "needs_background": "light"
     },
     "output_type": "display_data"
    }
   ],
   "source": [
    "ax = df_by_weekday.plot.bar(x=\"weekday\", y= [\"absolute_shrinkage\",\"daily_stock_in_euros\", \"daily_sales_in_euros\"], rot=0, subplots=False, figsize=(5, 7))\n",
    "plt.ylabel('Total amount, EUR',fontsize = 12,color='black')"
   ]
  },
  {
   "cell_type": "markdown",
   "metadata": {},
   "source": [
    "*Figure 3. Total amount of shrinkage, sales and stock in euros by weekday* "
   ]
  },
  {
   "cell_type": "markdown",
   "metadata": {},
   "source": [
    "Indeed, Figure 3 shows that daily sales on Friday is less then other weekdays. The peak of sales takes place on Mondays and on Thursdays. The stock is clearly peaking on Thursdays. To make a clear vision of sales and shrinkage, we will find a proportion of sales and shrinkage by weekday."
   ]
  },
  {
   "cell_type": "code",
   "execution_count": 68,
   "metadata": {},
   "outputs": [
    {
     "data": {
      "text/plain": [
       "<matplotlib.legend.Legend at 0x1a266c4c10>"
      ]
     },
     "execution_count": 68,
     "metadata": {},
     "output_type": "execute_result"
    },
    {
     "data": {
      "image/png": "[encoded data removed]",
      "text/plain": [
       "<Figure size 432x288 with 1 Axes>"
      ]
     },
     "metadata": {},
     "output_type": "display_data"
    }
   ],
   "source": [
    "my_explode = (0.1, 0, 0, 0, 0)\n",
    "plt.pie(df_by_weekday[\"daily_sales_in_euros\"], labels=df_by_weekday['weekday'], autopct='%1.1f%%', startangle=15, shadow = True, explode=my_explode)\n",
    "plt.axis('equal')\n",
    "plt.legend(title=\"Weekday\", loc='upper left', labels=df_by_weekday['weekday'], frameon=True, ncol=1)"
   ]
  },
  {
   "cell_type": "markdown",
   "metadata": {},
   "source": [
    "*Figure 4. Proportion of sales by weekday* "
   ]
  },
  {
   "cell_type": "code",
   "execution_count": 69,
   "metadata": {},
   "outputs": [
    {
     "data": {
      "text/plain": [
       "<matplotlib.legend.Legend at 0x1a267a00d0>"
      ]
     },
     "execution_count": 69,
     "metadata": {},
     "output_type": "execute_result"
    },
    {
     "data": {
      "image/png": "[encoded data removed]",
      "text/plain": [
       "<Figure size 432x288 with 1 Axes>"
      ]
     },
     "metadata": {},
     "output_type": "display_data"
    }
   ],
   "source": [
    "my_explode = (0, 0, 0, 0, 0.1)\n",
    "plt.pie(df_by_weekday[\"absolute_shrinkage\"], labels=df_by_weekday['weekday'], autopct='%1.1f%%', startangle=15, shadow = True, explode=my_explode)\n",
    "plt.axis('equal')\n",
    "plt.legend(title=\"Weekday\", loc='upper left', labels=df_by_weekday['weekday'], frameon=True, ncol=1)"
   ]
  },
  {
   "cell_type": "markdown",
   "metadata": {},
   "source": [
    "*Figure 5. Proportion of shrinkage by weekday* "
   ]
  },
  {
   "cell_type": "markdown",
   "metadata": {},
   "source": [
    "As a result, Figure 4 and Figure 5 shows that there is peak of sales is on Monday and on Thursday and sales drops on Friday and Wednesday. Shrinkage is reaching the highest value on Friday (42,7% out of other weekdays). Shrinkage is stable on the other weekdays "
   ]
  },
  {
   "cell_type": "markdown",
   "metadata": {},
   "source": [
    "#### Exploring freshness\n",
    "Each purchasing area is a part of 2 big categories devided by freshness. We have got an information from \"Metro\" with following description: \n",
    "\n",
    "ACM FLEISCH, ACM FRISCHFISCH, ACM GEMUESE, ACM BLUMEN, ACM OBST belong to \"ultrafresh\" category (5 purchasing areas) and rest of them are normal fresh. We will make a new column \"freshness\" which is depending on a given creteria. "
   ]
  },
  {
   "cell_type": "code",
   "execution_count": 39,
   "metadata": {
    "scrolled": true
   },
   "outputs": [
    {
     "name": "stderr",
     "output_type": "stream",
     "text": [
      "/opt/anaconda3/lib/python3.7/site-packages/ipykernel_launcher.py:2: SettingWithCopyWarning: \n",
      "A value is trying to be set on a copy of a slice from a DataFrame\n",
      "\n",
      "See the caveats in the documentation: http://pandas.pydata.org/pandas-docs/stable/user_guide/indexing.html#returning-a-view-versus-a-copy\n",
      "  \n",
      "/opt/anaconda3/lib/python3.7/site-packages/ipykernel_launcher.py:3: SettingWithCopyWarning: \n",
      "A value is trying to be set on a copy of a slice from a DataFrame\n",
      "\n",
      "See the caveats in the documentation: http://pandas.pydata.org/pandas-docs/stable/user_guide/indexing.html#returning-a-view-versus-a-copy\n",
      "  This is separate from the ipykernel package so we can avoid doing imports until\n",
      "/opt/anaconda3/lib/python3.7/site-packages/ipykernel_launcher.py:4: SettingWithCopyWarning: \n",
      "A value is trying to be set on a copy of a slice from a DataFrame\n",
      "\n",
      "See the caveats in the documentation: http://pandas.pydata.org/pandas-docs/stable/user_guide/indexing.html#returning-a-view-versus-a-copy\n",
      "  after removing the cwd from sys.path.\n",
      "/opt/anaconda3/lib/python3.7/site-packages/ipykernel_launcher.py:5: SettingWithCopyWarning: \n",
      "A value is trying to be set on a copy of a slice from a DataFrame\n",
      "\n",
      "See the caveats in the documentation: http://pandas.pydata.org/pandas-docs/stable/user_guide/indexing.html#returning-a-view-versus-a-copy\n",
      "  \"\"\"\n",
      "/opt/anaconda3/lib/python3.7/site-packages/ipykernel_launcher.py:6: SettingWithCopyWarning: \n",
      "A value is trying to be set on a copy of a slice from a DataFrame\n",
      "\n",
      "See the caveats in the documentation: http://pandas.pydata.org/pandas-docs/stable/user_guide/indexing.html#returning-a-view-versus-a-copy\n",
      "  \n"
     ]
    }
   ],
   "source": [
    "df['freshness'] = 'fresh'\n",
    "df['freshness'][df['purchasing_area_description'] == 'ACM FLEISCH'] = 'ultrafresh'\n",
    "df['freshness'][df['purchasing_area_description'] == 'ACM FRISCHFISCH'] = 'ultrafresh'\n",
    "df['freshness'][df['purchasing_area_description'] == 'ACM GEMUESE'] = 'ultrafresh'\n",
    "df['freshness'][df['purchasing_area_description'] == 'ACM BLUMEN'] = 'ultrafresh'\n",
    "df['freshness'][df['purchasing_area_description'] == 'ACM OBST'] = 'ultrafresh'"
   ]
  },
  {
   "cell_type": "markdown",
   "metadata": {},
   "source": [
    "Now we have information about each product whether it belongs to fresh or ultrafrech category."
   ]
  },
  {
   "cell_type": "code",
   "execution_count": 40,
   "metadata": {},
   "outputs": [
    {
     "data": {
      "text/html": [
       "<div>\n",
       "<style scoped>\n",
       "    .dataframe tbody tr th:only-of-type {\n",
       "        vertical-align: middle;\n",
       "    }\n",
       "\n",
       "    .dataframe tbody tr th {\n",
       "        vertical-align: top;\n",
       "    }\n",
       "\n",
       "    .dataframe thead th {\n",
       "        text-align: right;\n",
       "    }\n",
       "</style>\n",
       "<table border=\"1\" class=\"dataframe\">\n",
       "  <thead>\n",
       "    <tr style=\"text-align: right;\">\n",
       "      <th></th>\n",
       "      <th>freshness</th>\n",
       "      <th>daily_shrinkage_in_euros</th>\n",
       "      <th>daily_stock_in_euros</th>\n",
       "      <th>daily_sales_in_euros</th>\n",
       "    </tr>\n",
       "  </thead>\n",
       "  <tbody>\n",
       "    <tr>\n",
       "      <td>0</td>\n",
       "      <td>fresh</td>\n",
       "      <td>-16797.2265</td>\n",
       "      <td>1372994.739</td>\n",
       "      <td>394066.109</td>\n",
       "    </tr>\n",
       "    <tr>\n",
       "      <td>1</td>\n",
       "      <td>ultrafresh</td>\n",
       "      <td>-6034.9998</td>\n",
       "      <td>550085.528</td>\n",
       "      <td>309183.872</td>\n",
       "    </tr>\n",
       "  </tbody>\n",
       "</table>\n",
       "</div>"
      ],
      "text/plain": [
       "    freshness  daily_shrinkage_in_euros  daily_stock_in_euros  \\\n",
       "0       fresh               -16797.2265           1372994.739   \n",
       "1  ultrafresh                -6034.9998            550085.528   \n",
       "\n",
       "   daily_sales_in_euros  \n",
       "0            394066.109  \n",
       "1            309183.872  "
      ]
     },
     "execution_count": 40,
     "metadata": {},
     "output_type": "execute_result"
    }
   ],
   "source": [
    "df_freshness = df.groupby(\"freshness\")[\"daily_shrinkage_in_euros\",\"daily_stock_in_euros\", \"daily_sales_in_euros\"  ].sum().reset_index()\n",
    "df_freshness"
   ]
  },
  {
   "cell_type": "markdown",
   "metadata": {},
   "source": [
    "Let's find proportions of fresh and ultrafresh products in shrinkage in euros, stock in euros and sales in euros."
   ]
  },
  {
   "cell_type": "code",
   "execution_count": 70,
   "metadata": {
    "scrolled": true
   },
   "outputs": [
    {
     "data": {
      "text/plain": [
       "<matplotlib.legend.Legend at 0x1a268b27d0>"
      ]
     },
     "execution_count": 70,
     "metadata": {},
     "output_type": "execute_result"
    },
    {
     "data": {
      "image/png": "[encoded data removed]",
      "text/plain": [
       "<Figure size 1080x360 with 3 Axes>"
      ]
     },
     "metadata": {},
     "output_type": "display_data"
    }
   ],
   "source": [
    "df_pie = pd.DataFrame({'fresh':[16797.2265, 1375354.007, 393883.109],\n",
    "               'ultrafresh':[6034.9998,552468.146, 308232.872],\n",
    "               }, index=['daily_shrinkage_in_euros','daily_stock_in_euros','daily_sales_in_euros' ])    \n",
    "title= ['Daily shrinkage, %','Daily stock, %','Daily sales, %' ]\n",
    "fig, axs = plt.subplots(nrows=1, ncols=df_pie.index.size, figsize=(15,5))\n",
    "colors = [\"lightblue\",\"lightgreen\"]\n",
    "fig.subplots_adjust(hspace=1.5)\n",
    "\n",
    "\n",
    "for row in range(df_pie.index.size):\n",
    "    fig.add_subplot(axs[row] )\n",
    "    plt.pie(df_pie.loc[df_pie.index[row],:], labels=df_pie.columns, autopct=\"%1.1f%%\", colors=colors)\n",
    "    axs[row].set_title(title[row])\n",
    "fig.legend(title=\"Freshness\", loc='upper right', labels=[\"Fresh\", \"Ultrafresh\"], ncol=2)"
   ]
  },
  {
   "cell_type": "markdown",
   "metadata": {},
   "source": [
    "*Figure 6. Proportion of Fresh and Ultrafresh products in shrinkage, stock and sales* "
   ]
  },
  {
   "cell_type": "markdown",
   "metadata": {},
   "source": [
    "Figure 6 demonstrates, that fresh products take the main part in shrinkage, stock and sales. So following the data for only one month we can conclude, that current depo has less utrafresh product then normal fresh.  We will also check how many unique products has each group. And find out a proportion of it."
   ]
  },
  {
   "cell_type": "code",
   "execution_count": 42,
   "metadata": {
    "scrolled": true
   },
   "outputs": [
    {
     "data": {
      "text/plain": [
       "freshness\n",
       "fresh         1026\n",
       "ultrafresh     716\n",
       "Name: article_name, dtype: int64"
      ]
     },
     "execution_count": 42,
     "metadata": {},
     "output_type": "execute_result"
    }
   ],
   "source": [
    "df.groupby(\"freshness\")[\"article_name\"].nunique()"
   ]
  },
  {
   "cell_type": "code",
   "execution_count": 43,
   "metadata": {},
   "outputs": [
    {
     "data": {
      "text/plain": [
       "freshness\n",
       "fresh         58.897819\n",
       "ultrafresh    41.102181\n",
       "Name: article_name, dtype: float64"
      ]
     },
     "execution_count": 43,
     "metadata": {},
     "output_type": "execute_result"
    }
   ],
   "source": [
    "df.groupby(\"freshness\")[\"article_name\"].nunique()/df[\"article_name\"].nunique() * 100"
   ]
  },
  {
   "cell_type": "markdown",
   "metadata": {},
   "source": [
    "58,9% of unique products belong to normal fresh and 41,1% belongs to ultrafresh, means that number of products takes almost equal parts. \n",
    "\n",
    "By this step, hypothesis that shrinkage containes more ultrafresh products is wrong."
   ]
  },
  {
   "cell_type": "markdown",
   "metadata": {},
   "source": [
    "#### Exploring the top best-selling products "
   ]
  },
  {
   "cell_type": "markdown",
   "metadata": {},
   "source": [
    "Let's explore the top 10 of the most sold products by finding percentage of sell each one out of total sum of sells. And comapare to the 10 products which have the highest shrinkage to check if we have any coincidences."
   ]
  },
  {
   "cell_type": "code",
   "execution_count": 44,
   "metadata": {},
   "outputs": [],
   "source": [
    "df_by_name_top_sale = df.groupby(\"article_name\")[\"daily_sales_in_euros\",\"daily_stock_in_euros\",\"daily_shrinkage_in_euros\"].sum().reset_index()\n",
    "df_by_name_top_sale[\"% out of total sales\"]= (df_by_name_top_sale[\"daily_sales_in_euros\"]/df_by_name_top_sale[\"daily_sales_in_euros\"].sum())* 100"
   ]
  },
  {
   "cell_type": "code",
   "execution_count": 45,
   "metadata": {},
   "outputs": [],
   "source": [
    "df_by_name_top_sale = df_by_name_top_sale.nlargest(10, [\"daily_sales_in_euros\"])\n",
    "df_by_name_top_sale.set_index(\"article_name\", inplace=True, drop=\"true\")"
   ]
  },
  {
   "cell_type": "code",
   "execution_count": 46,
   "metadata": {
    "scrolled": true
   },
   "outputs": [
    {
     "data": {
      "image/png": "[encoded data removed]",
      "text/plain": [
       "<Figure size 432x288 with 1 Axes>"
      ]
     },
     "metadata": {
      "needs_background": "light"
     },
     "output_type": "display_data"
    }
   ],
   "source": [
    "ax = df_by_name_top_sale[\"% out of total sales\"][:10].plot.barh(title=\"Top 10 Selling Products in the department store\",\n",
    "    color=\"lightgreen\")\n",
    "plt.xlabel(\"Proportion of sales for the top 10 products, %\");\n",
    "plt.ylabel(\"Article name\");\n",
    "\n",
    "for patch in ax.patches:\n",
    "    ax.text(\n",
    "        patch.get_width() + 0.1, \n",
    "        patch.get_y() + 0.38,\n",
    "        \" {} %\".format(patch.get_width().round(2)), \n",
    "        fontsize=10,\n",
    "        color='black'\n",
    "    )\n",
    "\n",
    "ax.invert_yaxis()"
   ]
  },
  {
   "cell_type": "markdown",
   "metadata": {},
   "source": [
    "*Figure 7. Top 10 best-selling Products in the department store for January 2020*"
   ]
  },
  {
   "cell_type": "markdown",
   "metadata": {},
   "source": [
    "Based on the sales of products across different categories in the department store, the best selling are following products (Figure 7):\n",
    "\n",
    "1. 10er Eier b/w L-M BIO\n",
    "2. MC AVICADO \n",
    "3. 1L ARO H-SCHLAGSAHNE\n",
    "\n",
    "These three products make up around 4% of total sells. "
   ]
  },
  {
   "cell_type": "code",
   "execution_count": 47,
   "metadata": {
    "scrolled": true
   },
   "outputs": [
    {
     "data": {
      "image/png": "[encoded data removed]",
      "text/plain": [
       "<Figure size 432x288 with 1 Axes>"
      ]
     },
     "metadata": {
      "needs_background": "light"
     },
     "output_type": "display_data"
    }
   ],
   "source": [
    "df_by_name_top_shrinkage = df.groupby(\"article_name\")[\"daily_shrinkage_in_euros\"].sum().reset_index()\n",
    "df_by_name_top_shrinkage[\"% out of total shrinkage\"]= (df_by_name_top_shrinkage[\"daily_shrinkage_in_euros\"]/df_by_name_top_shrinkage[\"daily_shrinkage_in_euros\"].sum())* 100\n",
    "df_by_name_top_shrinkage = df_by_name_top_shrinkage.nsmallest(10, [\"daily_shrinkage_in_euros\"])\n",
    "df_by_name_top_shrinkage.set_index(\"article_name\", inplace=True, drop=\"true\")\n",
    "\n",
    "ax = df_by_name_top_shrinkage[\"% out of total shrinkage\"][:10].plot.barh(title=\"Top 10 Products with the highest shrinkage in the department store\",\n",
    "    color=\"lightblue\")\n",
    "plt.xlabel(\"Percentage of shrinkage for top 10 products, %\");\n",
    "# create a list to collect the plt.patches data\n",
    "for patch in ax.patches:\n",
    "    ax.text(\n",
    "        patch.get_width() + 0.1, \n",
    "        patch.get_y() + 0.38,\n",
    "        \" {} %\".format(patch.get_width().round(2)), \n",
    "        fontsize=10,\n",
    "        color='black'\n",
    "    )\n",
    "\n",
    "ax.invert_yaxis()"
   ]
  },
  {
   "cell_type": "markdown",
   "metadata": {},
   "source": [
    "*Figure 8. Top 10 products with the highest shrinkage in the department store for January 2020*"
   ]
  },
  {
   "cell_type": "markdown",
   "metadata": {},
   "source": [
    "Based on the srinkage of products across different categories in the department store, the most problematic in terms of waste are following products (Figure 8):\n",
    "\n",
    "1. 5 kg Frischer Klossteig\n",
    "2. 10er Eier weiss/braun L-M\n",
    "3. 500g ARO RAEUCHERLACHS\n",
    "\n",
    "These three products make up around 7% of total shrinkage out of 597 products with shrinkage. There is no coincidence between the best-selling products and its shrinkage. \n",
    "\n",
    "As a suggestion to \"Metro\", to check the reasons of such a high shrinkage of these products and if these products worth to have in a store."
   ]
  },
  {
   "cell_type": "markdown",
   "metadata": {},
   "source": [
    "#### Exploring the main category (purchasing area)"
   ]
  },
  {
   "cell_type": "code",
   "execution_count": 48,
   "metadata": {
    "scrolled": true
   },
   "outputs": [
    {
     "data": {
      "text/plain": [
       "['ACM FLEISCH',\n",
       " 'ACM BACKWAREN',\n",
       " 'ACM FRISCHFISCH',\n",
       " 'ACM MOLKEREIPRODUKTE',\n",
       " 'ACM KAESE',\n",
       " 'ACM FEINKOST',\n",
       " 'ACM GOURVENIENCE',\n",
       " 'ACM WURST',\n",
       " 'ACM OBST',\n",
       " 'ACM GEMUESE']"
      ]
     },
     "execution_count": 48,
     "metadata": {},
     "output_type": "execute_result"
    }
   ],
   "source": [
    "df[\"purchasing_area_description\"].unique().tolist()"
   ]
  },
  {
   "cell_type": "markdown",
   "metadata": {},
   "source": [
    "AMC BLUMEN has no any record. During this step of exploration we will find the purchasing areas with the highest and lowest: shrinkage, sales, stock."
   ]
  },
  {
   "cell_type": "code",
   "execution_count": 79,
   "metadata": {
    "scrolled": true
   },
   "outputs": [
    {
     "data": {
      "text/html": [
       "<div>\n",
       "<style scoped>\n",
       "    .dataframe tbody tr th:only-of-type {\n",
       "        vertical-align: middle;\n",
       "    }\n",
       "\n",
       "    .dataframe tbody tr th {\n",
       "        vertical-align: top;\n",
       "    }\n",
       "\n",
       "    .dataframe thead th {\n",
       "        text-align: right;\n",
       "    }\n",
       "</style>\n",
       "<table border=\"1\" class=\"dataframe\">\n",
       "  <thead>\n",
       "    <tr style=\"text-align: right;\">\n",
       "      <th></th>\n",
       "      <th>purchasing_area_description</th>\n",
       "      <th>daily_sales_in_euros</th>\n",
       "      <th>daily_stock_in_euros</th>\n",
       "      <th>daily_shrinkage_in_euros</th>\n",
       "    </tr>\n",
       "  </thead>\n",
       "  <tbody>\n",
       "    <tr>\n",
       "      <td>0</td>\n",
       "      <td>ACM BACKWAREN</td>\n",
       "      <td>14102.000</td>\n",
       "      <td>55595.000</td>\n",
       "      <td>-199.9313</td>\n",
       "    </tr>\n",
       "    <tr>\n",
       "      <td>1</td>\n",
       "      <td>ACM FEINKOST</td>\n",
       "      <td>25170.000</td>\n",
       "      <td>89487.273</td>\n",
       "      <td>-3371.1331</td>\n",
       "    </tr>\n",
       "    <tr>\n",
       "      <td>2</td>\n",
       "      <td>ACM FLEISCH</td>\n",
       "      <td>123057.865</td>\n",
       "      <td>178812.857</td>\n",
       "      <td>-2184.6305</td>\n",
       "    </tr>\n",
       "    <tr>\n",
       "      <td>3</td>\n",
       "      <td>ACM FRISCHFISCH</td>\n",
       "      <td>28823.007</td>\n",
       "      <td>60731.177</td>\n",
       "      <td>-1256.6433</td>\n",
       "    </tr>\n",
       "    <tr>\n",
       "      <td>4</td>\n",
       "      <td>ACM GEMUESE</td>\n",
       "      <td>102817.000</td>\n",
       "      <td>192598.936</td>\n",
       "      <td>-2363.5960</td>\n",
       "    </tr>\n",
       "    <tr>\n",
       "      <td>5</td>\n",
       "      <td>ACM GOURVENIENCE</td>\n",
       "      <td>2502.810</td>\n",
       "      <td>23.000</td>\n",
       "      <td>0.0000</td>\n",
       "    </tr>\n",
       "    <tr>\n",
       "      <td>6</td>\n",
       "      <td>ACM KAESE</td>\n",
       "      <td>125558.000</td>\n",
       "      <td>551416.128</td>\n",
       "      <td>-3716.3172</td>\n",
       "    </tr>\n",
       "    <tr>\n",
       "      <td>7</td>\n",
       "      <td>ACM MOLKEREIPRODUKTE</td>\n",
       "      <td>164432.299</td>\n",
       "      <td>440071.845</td>\n",
       "      <td>-4353.7868</td>\n",
       "    </tr>\n",
       "    <tr>\n",
       "      <td>8</td>\n",
       "      <td>ACM OBST</td>\n",
       "      <td>54486.000</td>\n",
       "      <td>117942.558</td>\n",
       "      <td>-230.1300</td>\n",
       "    </tr>\n",
       "    <tr>\n",
       "      <td>9</td>\n",
       "      <td>ACM WURST</td>\n",
       "      <td>62301.000</td>\n",
       "      <td>236401.493</td>\n",
       "      <td>-5156.0581</td>\n",
       "    </tr>\n",
       "  </tbody>\n",
       "</table>\n",
       "</div>"
      ],
      "text/plain": [
       "  purchasing_area_description  daily_sales_in_euros  daily_stock_in_euros  \\\n",
       "0               ACM BACKWAREN             14102.000             55595.000   \n",
       "1                ACM FEINKOST             25170.000             89487.273   \n",
       "2                 ACM FLEISCH            123057.865            178812.857   \n",
       "3             ACM FRISCHFISCH             28823.007             60731.177   \n",
       "4                 ACM GEMUESE            102817.000            192598.936   \n",
       "5            ACM GOURVENIENCE              2502.810                23.000   \n",
       "6                   ACM KAESE            125558.000            551416.128   \n",
       "7        ACM MOLKEREIPRODUKTE            164432.299            440071.845   \n",
       "8                    ACM OBST             54486.000            117942.558   \n",
       "9                   ACM WURST             62301.000            236401.493   \n",
       "\n",
       "   daily_shrinkage_in_euros  \n",
       "0                 -199.9313  \n",
       "1                -3371.1331  \n",
       "2                -2184.6305  \n",
       "3                -1256.6433  \n",
       "4                -2363.5960  \n",
       "5                    0.0000  \n",
       "6                -3716.3172  \n",
       "7                -4353.7868  \n",
       "8                 -230.1300  \n",
       "9                -5156.0581  "
      ]
     },
     "execution_count": 79,
     "metadata": {},
     "output_type": "execute_result"
    }
   ],
   "source": [
    "df_areas = df.groupby(\"purchasing_area_description\")[\"daily_sales_in_euros\",\"daily_stock_in_euros\",\"daily_shrinkage_in_euros\"].sum().drop(index=\"ACM BLUMEN\").reset_index()\n",
    "df_areas"
   ]
  },
  {
   "cell_type": "markdown",
   "metadata": {},
   "source": [
    "Let's explore purchasing areas in depth."
   ]
  },
  {
   "cell_type": "code",
   "execution_count": 50,
   "metadata": {
    "scrolled": true
   },
   "outputs": [
    {
     "data": {
      "text/plain": [
       "Text(0.5, 1.0, 'Shrinkage in EUR by purchasing areas')"
      ]
     },
     "execution_count": 50,
     "metadata": {},
     "output_type": "execute_result"
    },
    {
     "data": {
      "image/png": "[encoded data removed]",
      "text/plain": [
       "<Figure size 432x288 with 1 Axes>"
      ]
     },
     "metadata": {
      "needs_background": "light"
     },
     "output_type": "display_data"
    }
   ],
   "source": [
    "sns.barplot(data = df_areas, x = \"purchasing_area_description\", y = \"daily_shrinkage_in_euros\")\n",
    "plt.xticks(rotation=-90)\n",
    "plt.xlabel(\"Purchasing areas\");\n",
    "plt.ylabel(\"Total shrinkage, EUR\");\n",
    "plt.title('Shrinkage in EUR by purchasing areas', pad=20,color=\"black\")"
   ]
  },
  {
   "cell_type": "markdown",
   "metadata": {},
   "source": [
    "*Figure 9. Total shrinkage in euros by purchasing area*"
   ]
  },
  {
   "cell_type": "markdown",
   "metadata": {},
   "source": [
    "Following Figure 9, areas with the highest srinkage: ACM WURST, ACM MOLKEREIPRODUKTE and ACM KAESE, areas with the lowest shrinkage is ACM OBST (fruits) and ACM BACKWAREN (bread). \n",
    "ACM  GOURVENIENCE does not have shrinkage. It is the own brand of \"Metro\", so it could be that the shrinkage counts in a different way."
   ]
  },
  {
   "cell_type": "code",
   "execution_count": 51,
   "metadata": {
    "scrolled": true
   },
   "outputs": [
    {
     "data": {
      "text/plain": [
       "Text(0.5, 1.0, 'Sales in EUR by purchasing areas')"
      ]
     },
     "execution_count": 51,
     "metadata": {},
     "output_type": "execute_result"
    },
    {
     "data": {
      "image/png": "[encoded data removed]",
      "text/plain": [
       "<Figure size 432x288 with 1 Axes>"
      ]
     },
     "metadata": {
      "needs_background": "light"
     },
     "output_type": "display_data"
    }
   ],
   "source": [
    "sns.barplot(data = df_areas, x = \"purchasing_area_description\", y = \"daily_sales_in_euros\")\n",
    "plt.xticks(rotation=-90)\n",
    "plt.xlabel(\"Purchasing areas\");\n",
    "plt.ylabel(\"Total sales, EUR\");\n",
    "plt.title('Sales in EUR by purchasing areas', pad=20,color=\"black\")"
   ]
  },
  {
   "cell_type": "markdown",
   "metadata": {},
   "source": [
    "*Figure 10. Total sales in euros by purchasing area*"
   ]
  },
  {
   "cell_type": "code",
   "execution_count": 81,
   "metadata": {},
   "outputs": [
    {
     "data": {
      "text/plain": [
       "Text(0, 0.5, 'Total stocks, EUR')"
      ]
     },
     "execution_count": 81,
     "metadata": {},
     "output_type": "execute_result"
    },
    {
     "data": {
      "image/png": "[encoded data removed]",
      "text/plain": [
       "<Figure size 432x288 with 1 Axes>"
      ]
     },
     "metadata": {
      "needs_background": "light"
     },
     "output_type": "display_data"
    }
   ],
   "source": [
    "sns.barplot(data = df_areas, x = \"purchasing_area_description\", y = \"daily_stock_in_euros\")\n",
    "plt.xticks(rotation=-90)\n",
    "plt.xlabel(\"Purchasing areas\")\n",
    "plt.ylabel(\"Total stocks, EUR\")"
   ]
  },
  {
   "cell_type": "markdown",
   "metadata": {},
   "source": [
    "*Figure 11. Total stock in euros by purchasing area*"
   ]
  },
  {
   "cell_type": "markdown",
   "metadata": {},
   "source": [
    "Following Figure 10, the areas with the highest sales: ACM MOLKEREIPRODUKTE, ACM KAESE and ACM FLEISCH. Following Figure 11, the areas with the highest stock: ACM MOLKEREIPRODUKTE, ACM KAESE and ACM GEMUSE.\n",
    "\n",
    "So far, we do not observe any dependency between sales and shrinkage or stock and shrinkage."
   ]
  },
  {
   "cell_type": "code",
   "execution_count": 71,
   "metadata": {},
   "outputs": [
    {
     "data": {
      "text/plain": [
       "(0, 400)"
      ]
     },
     "execution_count": 71,
     "metadata": {},
     "output_type": "execute_result"
    },
    {
     "data": {
      "image/png": "[encoded data removed]",
      "text/plain": [
       "<Figure size 432x288 with 1 Axes>"
      ]
     },
     "metadata": {
      "needs_background": "light"
     },
     "output_type": "display_data"
    }
   ],
   "source": [
    "#todo\n",
    "sns.boxplot(x = df[\"purchasing_area_description\"], y = df[\"daily_sales_in_euros\"])\n",
    "plt.xticks(rotation=-90)\n",
    "plt.ylim(0,400)"
   ]
  },
  {
   "cell_type": "markdown",
   "metadata": {},
   "source": [
    "*Figure 12. Boxplot*"
   ]
  },
  {
   "cell_type": "markdown",
   "metadata": {},
   "source": [
    "Median is the best average mesure for our data set since we have a lot of ouliers, after research, we came to decision that it is usual behavior for real life data to have such an amount of outlires. We can infer from the Figure 12 that the amount of total sales is higher for ACM FLEISCH category. Median price for Fleish is 63 and it is the highest out of categies. Also Fleish has the biggest normalised max values. "
   ]
  },
  {
   "cell_type": "code",
   "execution_count": 54,
   "metadata": {},
   "outputs": [
    {
     "data": {
      "text/plain": [
       "purchasing_area_description\n",
       "ACM BACKWAREN           183.0\n",
       "ACM BLUMEN                NaN\n",
       "ACM FEINKOST            620.0\n",
       "ACM FLEISCH             989.0\n",
       "ACM FRISCHFISCH         675.0\n",
       "ACM GEMUESE             815.0\n",
       "ACM GOURVENIENCE        253.0\n",
       "ACM KAESE               748.0\n",
       "ACM MOLKEREIPRODUKTE    993.0\n",
       "ACM OBST                681.0\n",
       "ACM WURST               910.0\n",
       "Name: daily_sales_in_euros, dtype: float64"
      ]
     },
     "execution_count": 54,
     "metadata": {},
     "output_type": "execute_result"
    }
   ],
   "source": [
    "df.groupby(\"purchasing_area_description\")[\"daily_sales_in_euros\"].max()"
   ]
  },
  {
   "cell_type": "code",
   "execution_count": 55,
   "metadata": {},
   "outputs": [
    {
     "data": {
      "text/html": [
       "<div>\n",
       "<style scoped>\n",
       "    .dataframe tbody tr th:only-of-type {\n",
       "        vertical-align: middle;\n",
       "    }\n",
       "\n",
       "    .dataframe tbody tr th {\n",
       "        vertical-align: top;\n",
       "    }\n",
       "\n",
       "    .dataframe thead th {\n",
       "        text-align: right;\n",
       "    }\n",
       "</style>\n",
       "<table border=\"1\" class=\"dataframe\">\n",
       "  <thead>\n",
       "    <tr style=\"text-align: right;\">\n",
       "      <th></th>\n",
       "      <th>purchasing_area_description</th>\n",
       "      <th>daily_sales_in_euros</th>\n",
       "    </tr>\n",
       "  </thead>\n",
       "  <tbody>\n",
       "    <tr>\n",
       "      <td>0</td>\n",
       "      <td>ACM BACKWAREN</td>\n",
       "      <td>183.0</td>\n",
       "    </tr>\n",
       "    <tr>\n",
       "      <td>1</td>\n",
       "      <td>ACM BLUMEN</td>\n",
       "      <td>NaN</td>\n",
       "    </tr>\n",
       "    <tr>\n",
       "      <td>2</td>\n",
       "      <td>ACM FEINKOST</td>\n",
       "      <td>620.0</td>\n",
       "    </tr>\n",
       "    <tr>\n",
       "      <td>3</td>\n",
       "      <td>ACM FLEISCH</td>\n",
       "      <td>989.0</td>\n",
       "    </tr>\n",
       "    <tr>\n",
       "      <td>4</td>\n",
       "      <td>ACM FRISCHFISCH</td>\n",
       "      <td>675.0</td>\n",
       "    </tr>\n",
       "    <tr>\n",
       "      <td>5</td>\n",
       "      <td>ACM GEMUESE</td>\n",
       "      <td>815.0</td>\n",
       "    </tr>\n",
       "    <tr>\n",
       "      <td>6</td>\n",
       "      <td>ACM GOURVENIENCE</td>\n",
       "      <td>253.0</td>\n",
       "    </tr>\n",
       "    <tr>\n",
       "      <td>7</td>\n",
       "      <td>ACM KAESE</td>\n",
       "      <td>748.0</td>\n",
       "    </tr>\n",
       "    <tr>\n",
       "      <td>8</td>\n",
       "      <td>ACM MOLKEREIPRODUKTE</td>\n",
       "      <td>993.0</td>\n",
       "    </tr>\n",
       "    <tr>\n",
       "      <td>9</td>\n",
       "      <td>ACM OBST</td>\n",
       "      <td>681.0</td>\n",
       "    </tr>\n",
       "    <tr>\n",
       "      <td>10</td>\n",
       "      <td>ACM WURST</td>\n",
       "      <td>910.0</td>\n",
       "    </tr>\n",
       "  </tbody>\n",
       "</table>\n",
       "</div>"
      ],
      "text/plain": [
       "   purchasing_area_description  daily_sales_in_euros\n",
       "0                ACM BACKWAREN                 183.0\n",
       "1                   ACM BLUMEN                   NaN\n",
       "2                 ACM FEINKOST                 620.0\n",
       "3                  ACM FLEISCH                 989.0\n",
       "4              ACM FRISCHFISCH                 675.0\n",
       "5                  ACM GEMUESE                 815.0\n",
       "6             ACM GOURVENIENCE                 253.0\n",
       "7                    ACM KAESE                 748.0\n",
       "8         ACM MOLKEREIPRODUKTE                 993.0\n",
       "9                     ACM OBST                 681.0\n",
       "10                   ACM WURST                 910.0"
      ]
     },
     "execution_count": 55,
     "metadata": {},
     "output_type": "execute_result"
    }
   ],
   "source": [
    "## TODO\n",
    "df_max= df.groupby(\"purchasing_area_description\")[\"daily_sales_in_euros\"].max().reset_index()\n",
    "df_max"
   ]
  },
  {
   "cell_type": "markdown",
   "metadata": {},
   "source": [
    "#### Finding correlation"
   ]
  },
  {
   "cell_type": "markdown",
   "metadata": {},
   "source": [
    "The last step is to make an conclusion about correlation between variables."
   ]
  },
  {
   "cell_type": "code",
   "execution_count": 82,
   "metadata": {},
   "outputs": [
    {
     "data": {
      "text/plain": [
       "(array([0.5, 1.5, 2.5, 3.5, 4.5, 5.5]), <a list of 6 Text yticklabel objects>)"
      ]
     },
     "execution_count": 82,
     "metadata": {},
     "output_type": "execute_result"
    },
    {
     "data": {
      "image/png": "[encoded data removed]",
      "text/plain": [
       "<Figure size 600x600 with 2 Axes>"
      ]
     },
     "metadata": {
      "needs_background": "light"
     },
     "output_type": "display_data"
    }
   ],
   "source": [
    "plt.figure(figsize=(10,10), dpi= 60)\n",
    "sns.heatmap(df.corr(), xticklabels=df.corr().columns, yticklabels=df.corr().columns, cmap='RdYlGn', center=0, annot=True)\n",
    "plt.xticks(fontsize=12)\n",
    "plt.yticks(fontsize=12)"
   ]
  },
  {
   "cell_type": "markdown",
   "metadata": {},
   "source": [
    "*Figure 13. The correllogram with correlation coefficients of all possible pairs of numeric variable*"
   ]
  },
  {
   "cell_type": "markdown",
   "metadata": {},
   "source": [
    "Figure 13 doesn’t indicate that there’s any strong correlation, because correlation coefficient of all possible pairs of numeric variable less then 0.30. However there is a weak uphill (positive) linear relationship + 0.2 between daily sales in euros and daily stock in euros. For another pairs there is a very weak or no relationship at all exists, so calculating the correlation doesn’t make sense because correlation only applies to linear relationships.\n",
    "\n",
    "The next steps:\n",
    "- plot linear relationship between daily sales in euros and daily stock in euros\n",
    "- explore theoretical distribution which fits our data set"
   ]
  },
  {
   "cell_type": "code",
   "execution_count": 57,
   "metadata": {
    "scrolled": true
   },
   "outputs": [
    {
     "data": {
      "text/plain": [
       "Text(0.5, 1, 'Joint plot for correlation between stock and sales')"
      ]
     },
     "execution_count": 57,
     "metadata": {},
     "output_type": "execute_result"
    },
    {
     "data": {
      "image/png": "[encoded data removed]",
      "text/plain": [
       "<Figure size 432x432 with 3 Axes>"
      ]
     },
     "metadata": {
      "needs_background": "light"
     },
     "output_type": "display_data"
    }
   ],
   "source": [
    "sns.jointplot(x=\"daily_stock_in_euros\" , y=\"daily_sales_in_euros\",kind=\"reg\", data=df.sample(1000));\n",
    "plt.xlim([1,1000]) \n",
    "plt.ylim([1,1000])\n",
    "plt.xlabel(\"Total daily stock, EUR\");\n",
    "plt.ylabel(\"Total daily sales, EUR\");\n",
    "plt.title('Joint plot for correlation between stock and sales', pad=100, color=\"black\", fontsize=16)"
   ]
  },
  {
   "cell_type": "markdown",
   "metadata": {},
   "source": [
    "*Figure 14. Visualisation of relationship between sales and stock and the regression line that best fits the data points.*"
   ]
  },
  {
   "cell_type": "markdown",
   "metadata": {},
   "source": [
    "The histogram on the top of Figure 14 shows the distribution of the sales variable. The most frequent number of sales lays in between 1 to 200 euros. Distribution is positively skewed(mean = 49 is greater than the median = 21).\n",
    "The histogram to the right of Figure 14 shows the distribution of the stock variable, distribution of it is similar to the sales distribution, positively skewed(mean = 134 is greater than the median = 62).\n",
    "\n",
    "As the last step of the report, let's find what theoretical distribution is the most suitable to describe our sales data? First, let's test sales distributions with a python method and find which distribution fits."
   ]
  },
  {
   "cell_type": "code",
   "execution_count": 58,
   "metadata": {},
   "outputs": [
    {
     "name": "stderr",
     "output_type": "stream",
     "text": [
      "/opt/anaconda3/lib/python3.7/site-packages/scipy/stats/_distn_infrastructure.py:2381: RuntimeWarning: invalid value encountered in double_scalars\n",
      "  Lhat = muhat - Shat*mu\n",
      "/opt/anaconda3/lib/python3.7/site-packages/scipy/stats/_continuous_distns.py:515: RuntimeWarning: invalid value encountered in sqrt\n",
      "  sk = 2*(b-a)*np.sqrt(a + b + 1) / (a + b + 2) / np.sqrt(a*b)\n",
      "/opt/anaconda3/lib/python3.7/site-packages/scipy/optimize/minpack.py:162: RuntimeWarning: The iteration is not making good progress, as measured by the \n",
      "  improvement from the last ten iterations.\n",
      "  warnings.warn(msg, RuntimeWarning)\n"
     ]
    },
    {
     "name": "stdout",
     "output_type": "stream",
     "text": [
      "Best fit for sales variable reached using lognorm\n"
     ]
    }
   ],
   "source": [
    "data = df[\"daily_sales_in_euros\"]\n",
    "distributions = [st.alpha,st.beta,st.gamma,st.laplace,st.lognorm,st.pearson3,st.norm]\n",
    "mles = []\n",
    "for distribution in distributions:\n",
    "    pars = distribution.fit(data)\n",
    "    mle = distribution.nnlf(pars, data)\n",
    "    mles.append(mle)\n",
    "results = [(distribution.name, mle) for distribution, mle in zip(distributions, mles)]\n",
    "best_fit = sorted(zip(distributions, mles), key=lambda d: d[1])[0]\n",
    "print(\"Best fit for sales variable reached using {}\".format(best_fit[0].name, best_fit[1]))"
   ]
  },
  {
   "cell_type": "markdown",
   "metadata": {},
   "source": [
    "Logarithm of random sales variables is normally distributed. We have skewed distributions with low mean values, large variance, and all-positive values. Now, we can plot distribution."
   ]
  },
  {
   "cell_type": "code",
   "execution_count": 59,
   "metadata": {
    "scrolled": true
   },
   "outputs": [
    {
     "data": {
      "image/png": "[encoded data removed]",
      "text/plain": [
       "<Figure size 720x360 with 1 Axes>"
      ]
     },
     "metadata": {
      "needs_background": "light"
     },
     "output_type": "display_data"
    }
   ],
   "source": [
    "plt.figure(figsize=(10,5))\n",
    "ax = sns.distplot(df[\"daily_sales_in_euros\"], fit=st.lognorm, kde=False)\n",
    "plt.xlabel(\"Total daily sales, EUR\");"
   ]
  },
  {
   "cell_type": "markdown",
   "metadata": {},
   "source": [
    "*Figure 15. Visualizing sales lognorm distribution.*"
   ]
  },
  {
   "cell_type": "markdown",
   "metadata": {},
   "source": [
    "#TODO\n",
    "Let's check out a sample of aour data for shrinkage."
   ]
  },
  {
   "cell_type": "code",
   "execution_count": 60,
   "metadata": {},
   "outputs": [
    {
     "name": "stdout",
     "output_type": "stream",
     "text": [
      "Our parameter is 638.82 our statatistic is  38.8058 sampling error 600.0142000000001\n"
     ]
    }
   ],
   "source": [
    "parameter = df[\"daily_shrinkage_in_euros\"].abs().max()\n",
    "sample = df[\"daily_shrinkage_in_euros\"].sample(100, random_state=1)\n",
    "statistic = sample.abs().max()\n",
    "sampling_error = parameter - statistic\n",
    "print(\"Our parameter is \" + str(parameter) + \" our statatistic is  \" + str(statistic) + \" sampling error \" + str(sampling_error))"
   ]
  },
  {
   "cell_type": "code",
   "execution_count": null,
   "metadata": {},
   "outputs": [],
   "source": []
  },
  {
   "cell_type": "markdown",
   "metadata": {},
   "source": [
    "Our data is very diverse so we should expect a large sampling error (a large discrepancy between our sample's statistic and the population's parameter. \n"
   ]
  },
  {
   "cell_type": "markdown",
   "metadata": {},
   "source": [
    "* calculate the minimum and maximum value from the sequence of values we passed in\n",
    "* create 10 bins of equal length that span the range from the minimum to the maximum value\n",
    "* group unique values into the bins\n",
    "* sum up the associated unique values\n",
    "* generate a bar for the frequency sum for each bin"
   ]
  },
  {
   "cell_type": "markdown",
   "metadata": {},
   "source": [
    "From the histograms, we can make the following observations:\n",
    "\n",
    "* Around 50% of shrinkage take betwenn the ... to ... range\n",
    "* Around 75% of shrinkage take betwenn the ... to ... range\n",
    "* Around 90% of shrinkage take betwenn the ... to ... range"
   ]
  },
  {
   "cell_type": "markdown",
   "metadata": {},
   "source": [
    "### Conclusion\n",
    "#### What has been done\n",
    "    1. Exploring trends of sales, stock and shrinkage.\n",
    "    2. Exploring freshness and discovering that fresh prosucts take the main part in shrinkage, stock_in_euros and sales. \n",
    "    3. Found top 10 sold products and top 10 products with the highest shrinkage\n",
    "    4. Exploring purchasing areas and finding areas with the most srinkage with the least shrinkage is ACM OBST (fruits) and ACM BACKWAREN (bread).\n",
    "    5. Exploring correlation metric between all possible pairs of numeric variables, We did not find any strong correlation. However we could explore a weak uphill (positive) linear relationship + 0.2 between daily sales in euros and daily stock in euros.\n",
    "    6. Found the most suitable distribution for sales variable.\n",
    "\n",
    "It has been shown .... that....\n",
    "Here are the take home points from the report:\n",
    "- working with missing value depends on business logic of the variales, could be done through under sometimes it is impossible to use theoretical methods and \n",
    "- real data could have a lot of outliers,\n",
    "- fitting into the model\n",
    "- no correlation is ok\n",
    "\n",
    "How to tacle initial problem?"
   ]
  },
  {
   "cell_type": "code",
   "execution_count": null,
   "metadata": {},
   "outputs": [],
   "source": []
  }
 ],
 "metadata": {
  "kernelspec": {
   "display_name": "Python 3",
   "language": "python",
   "name": "python3"
  },
  "language_info": {
   "codemirror_mode": {
    "name": "ipython",
    "version": 3
   },
   "file_extension": ".py",
   "mimetype": "text/x-python",
   "name": "python",
   "nbconvert_exporter": "python",
   "pygments_lexer": "ipython3",
   "version": "3.7.4"
  }
 },
 "nbformat": 4,
 "nbformat_minor": 2
}
